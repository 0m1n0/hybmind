{
 "cells": [
  {
   "cell_type": "code",
   "execution_count": 1,
   "metadata": {},
   "outputs": [
    {
     "name": "stderr",
     "output_type": "stream",
     "text": [
      "In /opt/anaconda3/envs/my-rdkit-env/lib/python3.7/site-packages/matplotlib/mpl-data/stylelib/_classic_test.mplstyle: \n",
      "The text.latex.preview rcparam was deprecated in Matplotlib 3.3 and will be removed two minor releases later.\n",
      "In /opt/anaconda3/envs/my-rdkit-env/lib/python3.7/site-packages/matplotlib/mpl-data/stylelib/_classic_test.mplstyle: \n",
      "The mathtext.fallback_to_cm rcparam was deprecated in Matplotlib 3.3 and will be removed two minor releases later.\n",
      "In /opt/anaconda3/envs/my-rdkit-env/lib/python3.7/site-packages/matplotlib/mpl-data/stylelib/_classic_test.mplstyle: Support for setting the 'mathtext.fallback_to_cm' rcParam is deprecated since 3.3 and will be removed two minor releases later; use 'mathtext.fallback : 'cm' instead.\n",
      "In /opt/anaconda3/envs/my-rdkit-env/lib/python3.7/site-packages/matplotlib/mpl-data/stylelib/_classic_test.mplstyle: \n",
      "The validate_bool_maybe_none function was deprecated in Matplotlib 3.3 and will be removed two minor releases later.\n",
      "In /opt/anaconda3/envs/my-rdkit-env/lib/python3.7/site-packages/matplotlib/mpl-data/stylelib/_classic_test.mplstyle: \n",
      "The savefig.jpeg_quality rcparam was deprecated in Matplotlib 3.3 and will be removed two minor releases later.\n",
      "In /opt/anaconda3/envs/my-rdkit-env/lib/python3.7/site-packages/matplotlib/mpl-data/stylelib/_classic_test.mplstyle: \n",
      "The keymap.all_axes rcparam was deprecated in Matplotlib 3.3 and will be removed two minor releases later.\n",
      "In /opt/anaconda3/envs/my-rdkit-env/lib/python3.7/site-packages/matplotlib/mpl-data/stylelib/_classic_test.mplstyle: \n",
      "The animation.avconv_path rcparam was deprecated in Matplotlib 3.3 and will be removed two minor releases later.\n",
      "In /opt/anaconda3/envs/my-rdkit-env/lib/python3.7/site-packages/matplotlib/mpl-data/stylelib/_classic_test.mplstyle: \n",
      "The animation.avconv_args rcparam was deprecated in Matplotlib 3.3 and will be removed two minor releases later.\n"
     ]
    }
   ],
   "source": [
    "import tensorflow as tf\n",
    "import numpy as np\n",
    "import os\n",
    "from temprel.rdkit import smiles_to_fingerprint\n",
    "import matplotlib.pyplot as plt\n",
    "import pandas as pd\n",
    "from rdkit import Chem\n",
    "from tqdm import tqdm\n",
    "import matplotlib as mpl\n",
    "mpl.rcParams['pdf.fonttype'] = 42\n",
    "import seaborn as sns\n",
    "import scipy\n",
    "import hashlib\n",
    "from tqdm import tqdm\n",
    "%matplotlib inline\n"
   ]
  },
  {
   "cell_type": "code",
   "execution_count": 2,
   "metadata": {},
   "outputs": [
    {
     "name": "stdout",
     "output_type": "stream",
     "text": [
      "\u001b[34m12Apr2021_v4\u001b[m\u001b[m\r\n",
      "\u001b[34m12May2021-bkms\u001b[m\u001b[m\r\n",
      "12May2021-bkms.zip\r\n",
      "13May2021-retro.templates.combined.json.gz\r\n",
      "\u001b[34m15Jun2021_bkms_traintestval\u001b[m\u001b[m\r\n",
      "19Feb2020.retro.templates.combined.json.gz\r\n",
      "22Mar2021_retro.templates.combined.json.gz\r\n",
      "\u001b[34m24May2021_bkms\u001b[m\u001b[m\r\n",
      "24May2021_bkms.zip\r\n",
      "25May2021_retro.templates.combined.json.gz\r\n",
      "29Jun2021-retro.templates.combined.json.gz\r\n",
      "\u001b[34m29Jun2021_bkms_traintestval\u001b[m\u001b[m\r\n",
      "29Jun2021_bkms_traintestval.zip\r\n",
      "\u001b[34m29Mar2021_reaxys_enzymatic\u001b[m\u001b[m\r\n",
      "29Mar2021_reaxys_enzymatic.zip\r\n",
      "30Mar2021_bkms.zip\r\n",
      "\u001b[34m30Mar2021_reaxys_enzymatic\u001b[m\u001b[m\r\n",
      "30Mar2021_reaxys_enzymatic.zip\r\n",
      "31Mar2021_bkms_neutral.zip\r\n",
      "31Mar2021_retro.templates.combined.json.gz\r\n",
      "5Apr2021_retro.templates.combined.json.gz\r\n",
      "8Apr2021-bkms.zip\r\n",
      "8Apr2021_retro.templates.combined.json.gz\r\n",
      "\u001b[34m9Apr2021-bkms\u001b[m\u001b[m\r\n",
      "9Apr2021-bkms.zip\r\n",
      "\u001b[34m9Apr2021_v4-bkms\u001b[m\u001b[m\r\n",
      "9Apr2021_v4-bkms.zip\r\n",
      "9Apr2021_v4_retro.templates.combined.json.gz\r\n",
      "\u001b[34m9Jun2021_bkms_traintestval\u001b[m\u001b[m\r\n",
      "9Jun2021_bkms_traintestval.zip\r\n",
      "bkms.zip\r\n",
      "\u001b[34mbkms_model_all_data\u001b[m\u001b[m\r\n",
      "bkms_model_all_data.zip\r\n",
      "buyables.combined.json.gz\r\n"
     ]
    }
   ],
   "source": [
    "!ls ../for\\ GCP/"
   ]
  },
  {
   "cell_type": "code",
   "execution_count": 4,
   "metadata": {},
   "outputs": [],
   "source": [
    "# Set figure defaults:\n",
    "\n",
    "figure_dir = '/Users/Itai/Box Sync/Grad/Manuscripts/Chemonzymatic_planner/matplotlib_figures/'\n",
    "plt.rcParams['figure.figsize'] = (1.7,1.7)\n",
    "plt.rcParams['font.sans-serif'] = 'Arial'\n",
    "plt.rcParams['font.size'] = 6\n",
    "mpl.rcParams['axes.spines.right'] = False\n",
    "mpl.rcParams['axes.spines.top'] = False\n",
    "plt.rcParams['axes.facecolor']='None'\n",
    "plt.rcParams['savefig.facecolor']='None'\n",
    "\n",
    "DATE='15Jun2021'\n",
    "SAVE_DATE='13May2022'\n",
    "figure_dir = figure_dir + SAVE_DATE + '_'"
   ]
  },
  {
   "cell_type": "code",
   "execution_count": 5,
   "metadata": {},
   "outputs": [],
   "source": [
    "reaxys_path = '../../makeit-data/models/template_prioritization/reaxys/1/'\n",
    "# bkms_path = '../12May2021-bkms/'\n",
    "bkms_path = '../for GCP/15Jun2021_bkms_traintestval'\n",
    "bkms_path = '../for GCP/bkms_model_all_data'\n",
    "# bkms_path = '../for GCP/12May2021-bkms'"
   ]
  },
  {
   "cell_type": "code",
   "execution_count": 6,
   "metadata": {},
   "outputs": [],
   "source": [
    "plt.rcParams['font.family'] = 'sans-serif'\n",
    "plt.rcParams['font.sans-serif'] = ['Arial']\n",
    "\n",
    "def plot_comp (arr_1, arr_2, name_1, name_2, color = 'black', axs = None, **kwargs):\n",
    "    comp = np.flip(np.sum(arr_1 > arr_2, axis = 0)) / arr_1.shape[0]\n",
    "    if axs:\n",
    "        axs.plot(np.arange(len(comp))+1, comp, color = color, **kwargs)\n",
    "        #axs.grid(alpha = 0.2)\n",
    "        axs.set_xlabel('Template rank')\n",
    "        axs.set_xticks = (range(1,11))\n",
    "        #axs.set_ylabel('Fraction %s > %s' % (name_2, name_1))\n",
    "        axs.set_ylim([0,1])\n",
    "        axs.set_xlim([0.8,len(comp)+0.2])\n",
    "        \n",
    "    else:\n",
    "        plt.scatter(np.arange(len(comp))+1, comp, color = color, **kwargs)\n",
    "#         plt.grid(alpha = 0.2)\n",
    "        plt.xlabel('Template rank')\n",
    "        plt.ylabel('Fraction of molecules')\n",
    "        plt.set_xticks = (range(1,11))\n",
    "        \n",
    "        \n",
    "def plot_comp_2 (arr_1, arr_2, name_1, name_2, color = 'black', axs = None, min_len = 10, cumulative=False, **kwargs):\n",
    "    \"\"\"\n",
    "    Plot fraction of molecules vs. number of entries from arr_1 that would be considered before arr_2\n",
    "    \"\"\"\n",
    "    comp =  np.bincount(arr_1.shape[1]-np.sum((arr_1 < arr_2[:, -1][:, None]), axis=1)) / arr_1.shape[0]\n",
    "    \n",
    "    if cumulative:\n",
    "        comp = [sum(comp[:i+1]) for i in range(len(comp))]\n",
    "    if min_len and len(comp) < min_len:\n",
    "        pad = np.zeros(min_len-len(comp))\n",
    "        comp = np.concatenate([comp, pad])\n",
    "    print (comp)\n",
    "    if axs:\n",
    "        axs.plot(np.arange(len(comp))+1, comp, color = color, **kwargs)\n",
    "        axs.set_xlabel('Template rank')\n",
    "        axs.set_xticks = (range(int(np.max(comp))))\n",
    "        axs.set_ylim([0,1])\n",
    "        axs.set_xlim([0.8,len(comp)+0.2])\n",
    "        \n",
    "    else:\n",
    "        plt.scatter(np.arange(len(comp))+1, comp, color = color, **kwargs)\n",
    "        plt.xlabel('Template rank')\n",
    "        plt.ylabel('Fraction of molecules')\n",
    "\n",
    "def plot_comp_3 (arr_1, arr_2, name_1, name_2, color = 'black', axs = None, min_len = 10, **kwargs):\n",
    "    \"\"\"\n",
    "    Plot fraction of molecules vs. number of entries for which both \n",
    "    \"\"\"\n",
    "    comp_1 =  arr_1.shape[1]-np.sum((arr_1 < arr_2[:, -1][:, None]), axis=1)\n",
    "    comp_2 =  arr_2.shape[1]-np.sum((arr_2 < arr_1[:, -1][:, None]), axis=1)\n",
    "    comp = np.bincount(np.max(np.stack([comp_1, comp_2]), axis=0)) / arr_1.shape[0]\n",
    "    comp = [sum(comp[:i+1]) for i in range(len(comp))]\n",
    "    print (comp)\n",
    "    if axs:\n",
    "        axs.bar(np.arange(len(comp))+1, comp, color = color, **kwargs)\n",
    "        axs.set_xlabel('Template rank')\n",
    "        axs.set_xticks = (range(int(np.max(comp))))\n",
    "        axs.set_ylim([0,1])\n",
    "        axs.set_xlim([0.8,len(comp)+0.2])\n",
    "        \n",
    "    else:\n",
    "        plt.bar(np.arange(len(comp))+1, comp, color = color, **kwargs)\n",
    "        plt.xlabel('Template rank')\n",
    "        plt.ylabel('Fraction of molecules')        \n",
    "        \n",
    "def standardize_smiles_list (smi_ls):\n",
    "    std_ls = []\n",
    "    for smi in smi_ls:\n",
    "        mol = Chem.MolFromSmiles(smi)\n",
    "        for atm in mol.GetAtoms():\n",
    "            atm.SetAtomMapNum(0)\n",
    "        std_ls.append(Chem.MolToSmiles(mol))\n",
    "    return std_ls\n",
    "\n",
    "def analyze_model(model_path, fps, trunc=None):\n",
    "    \"\"\"\n",
    "    Note: currently if trunc is set, return the top [trunc] scores for each molecules as an np.array\n",
    "    Else, reutrns a tf.Tensor of the predictions for all the molecules\n",
    "    \"\"\"\n",
    "    model = tf.keras.models.load_model(model_path)\n",
    "    infer = model.signatures['serving_default']\n",
    "    one_pred = infer(tf.constant(fps[0]))\n",
    "    key = list(one_pred.keys())[0]\n",
    "    if trunc == None:\n",
    "        pred = [np.array(tf.nn.softmax(infer(fp)[key])[0]) for fp in tqdm(fps)]\n",
    "        return pred \n",
    "    else:\n",
    "        print ('Truncating results')\n",
    "        pred = [np.sort(np.array(tf.nn.softmax(infer(fp)[key])[0]))[-trunc:] for fp in fps]\n",
    "        \n",
    "        return np.array(pred)\n",
    "\n",
    "def plot_ind_distribution (pred_arr, ind, title, save_path,  **kwargs):\n",
    "\n",
    "    plt.hist(pred_arr[:, ind], **kwargs)\n",
    "    plt.xlim([0,1])\n",
    "    plt.title(title)\n",
    "    plt.tight_layout(pad=0.2)\n",
    "    plt.savefig(save_path, dpi=300)\n",
    "    plt.show()\n",
    "    \n",
    "def plot_ind_distributions (pred_arrs, ind, save_path, colors, labels, axs=None, ylim=2000, **kwargs):\n",
    "    if axs:\n",
    "        for i, pred_arr in enumerate(pred_arrs):\n",
    "            axs.hist(pred_arr[:, ind], color = colors[i], label = labels[i], **kwargs)\n",
    "        axs.set_xlim([0,1])\n",
    "        plt.legend(title = 'Template prioritizer')\n",
    "        #plt.savefig(save_path)\n",
    "        axs.set_yticks([])\n",
    "        axs.set_xticks([0,0.5,1])\n",
    "    else:\n",
    "        for i, pred_arr in enumerate(pred_arrs):\n",
    "            plt.hist(pred_arr[:, ind], color = colors[i], label = labels[i], **kwargs)\n",
    "        plt.xlim([0,1])\n",
    "        plt.legend(title = 'Template prioritizer')\n",
    "#         plt.yticks([])\n",
    "        plt.ylim((0,ylim))\n",
    "        plt.xlabel('')\n",
    "        plt.ylabel('Number of molecules')\n",
    "        plt.xlabel('Top output score')\n",
    "        plt.tight_layout(pad=0.2)\n",
    "        if save_path:\n",
    "            plt.savefig(save_path, dpi=300)\n",
    "        plt.show()\n",
    "    \n",
    "def plot_scores (pred_arrs, pred_labels, colors, save_path, markers=None, axs = None, means = True, **kwargs):\n",
    "    if means:\n",
    "        means = [np.mean(arr, axis = 0) for arr in pred_arrs]\n",
    "    else:\n",
    "        means = [np.median(arr, axis = 0) for arr in pred_arrs]\n",
    "    print (means)\n",
    "    if not markers:\n",
    "        markers = len(pred_arrs) * ['s']\n",
    "        \n",
    "    if axs:\n",
    "        fig = plt.figure()\n",
    "        ax = axs\n",
    "        for mean, label, color, marker in zip(means, pred_labels, colors, markers):\n",
    "            line, = ax.plot(range(1,len(mean)+1), np.flip(mean), label = label, color = color, marker=marker, **kwargs)\n",
    "#         ax.set_yscale('log')\n",
    "        #plt.grid(alpha = 0.2, which = 'both')\n",
    "        plt.legend(title='Template prioritizer')\n",
    "        plt.xlabel('Template rank')\n",
    "        plt.ylabel('Mean output score')\n",
    "        plt.xticks(range(1,len(pred_arrs)+1))\n",
    "        plt.tight_layout(pad=0.2)\n",
    "        if save_path:\n",
    "            plt.savefig(save_path, dpi=300)\n",
    "    else:\n",
    "        fig = plt.figure()\n",
    "        ax = plt.subplot(111)\n",
    "        for mean, label, color, marker in zip(means, pred_labels, colors, markers):\n",
    "            plt.scatter(range(1,len(mean)+1), np.flip(mean), label = label, color = color, marker=marker, **kwargs)\n",
    "#         ax.set_yscale('log')\n",
    "#         plt.grid(alpha = 0.2, which = 'both')\n",
    "        plt.legend(title='Template prioritizer')\n",
    "        plt.xlabel('Template rank')\n",
    "        plt.ylabel('Mean output score')\n",
    "        plt.xticks(range(1,len(mean)+1))\n",
    "        plt.ylim(0.0, 0.5)\n",
    "        plt.tight_layout(pad=0.2)\n",
    "        if save_path:\n",
    "            plt.savefig(save_path, dpi=300)\n",
    "        plt.show()    "
   ]
  },
  {
   "cell_type": "markdown",
   "metadata": {},
   "source": [
    "## Benchmarking the reaxys and biological retro template prioritizer models on MOSES"
   ]
  },
  {
   "cell_type": "markdown",
   "metadata": {},
   "source": [
    "The reaxys model was retrieved from ASKCOS/makeit-data  \n",
    "The bioreaxys model was trained on the subset of reactions in Reaxys labeled 'enzymatic' that are only a single step  \n",
    "  \n",
    "The input data is a subset of 50,000 molecules randomly sampled from the MOSES dataset (https://arxiv.org/abs/1811.12823)"
   ]
  },
  {
   "cell_type": "code",
   "execution_count": 69,
   "metadata": {},
   "outputs": [],
   "source": [
    "np.random.seed(111)\n",
    " \n",
    "moses_chems = '../../bioretrosynthesis/MOSES_chems.txt'\n",
    "moses = pd.read_csv(moses_chems)\n",
    "rand_inds = np.random.choice(len(moses), 50000)\n",
    "\n",
    "moses_subset = moses.loc[rand_inds, :]\n",
    "\n",
    "try:\n",
    "    \n",
    "    fps = [tf.constant(x) for x in np.load('../../bioretrosynthesis/template-relevance/MOSES50k_fingerprints.npy')]\n",
    "\n",
    "except:\n",
    "    smiles = moses_subset['SMILES']\n",
    "    fps = [tf.constant(np.array([smiles_to_fingerprint(smi)]), dtype=tf.float32) for smi in smiles]\n",
    "    np.save('MOSES50k_fingerprints', np.array([np.array(fp) for fp in fps]))"
   ]
  },
  {
   "cell_type": "code",
   "execution_count": 70,
   "metadata": {},
   "outputs": [],
   "source": [
    "np.random.seed(111)\n",
    "\n",
    "bkms_train = standardize_smiles_list(np.concatenate([np.load('../../template-relevance/data/processed/12May2021-bkmstrain.input.smiles.npy'),\n",
    "                        np.load('../../template-relevance/data/processed/12May2021-bkmsvalid.input.smiles.npy'),\n",
    "                        np.load('../../template-relevance/data/processed/12May2021-bkmstest.input.smiles.npy')]))\n",
    "\n",
    "moses_subset = standardize_smiles_list(moses.loc[rand_inds, 'SMILES'])"
   ]
  },
  {
   "cell_type": "code",
   "execution_count": 71,
   "metadata": {},
   "outputs": [
    {
     "data": {
      "text/plain": [
       "{'COc1cc2c(=O)c(-c3ccc(O)cc3)coc2cc1O'}"
      ]
     },
     "execution_count": 71,
     "metadata": {},
     "output_type": "execute_result"
    }
   ],
   "source": [
    "set(bkms_train).intersection(moses_subset)"
   ]
  },
  {
   "cell_type": "code",
   "execution_count": 72,
   "metadata": {},
   "outputs": [
    {
     "data": {
      "text/plain": [
       "50000"
      ]
     },
     "execution_count": 72,
     "metadata": {},
     "output_type": "execute_result"
    }
   ],
   "source": [
    "len(moses_subset)"
   ]
  },
  {
   "cell_type": "code",
   "execution_count": 73,
   "metadata": {},
   "outputs": [],
   "source": [
    "def hash_smiles(smiles):\n",
    "    smiles = Chem.MolToSmiles(Chem.MolFromSmiles(smiles), isomericSmiles=False)\n",
    "    hashed_smiles = int(hashlib.md5(smiles.encode('utf-8')).hexdigest(), 16)\n",
    "    return np.float64(hashed_smiles)"
   ]
  },
  {
   "cell_type": "code",
   "execution_count": 74,
   "metadata": {},
   "outputs": [
    {
     "name": "stdout",
     "output_type": "stream",
     "text": [
      "loaded saved file\n"
     ]
    },
    {
     "name": "stderr",
     "output_type": "stream",
     "text": [
      "100%|██████████| 50000/50000 [00:00<00:00, 180848.21it/s]"
     ]
    },
    {
     "name": "stdout",
     "output_type": "stream",
     "text": [
      "loaded saved file\n",
      "all_loaded\n",
      "49999\n",
      "48869\n"
     ]
    },
    {
     "name": "stderr",
     "output_type": "stream",
     "text": [
      "\n"
     ]
    }
   ],
   "source": [
    "try:\n",
    "    moses_in_train = np.load(DATE+'_moses_in_bkms_train.npy')\n",
    "    moses_not_in_train_idxs = [x not in moses_in_train for x in moses_subset]\n",
    "    print ('loaded saved file')\n",
    "except:\n",
    "    moses_in_train = set(bkms_train).intersection(moses_subset)\n",
    "    moses_not_in_train_idxs = [x not in moses_in_train for x in moses_subset]\n",
    "    np.save(DATE+'_moses_in_bkms_train.npy', np.array(list(moses_in_train)))\n",
    "    \n",
    "try:\n",
    "    moses_in_historian = np.load(DATE+'_moses_in_reaxys_train.npy')\n",
    "    hashed_moses = [hash_smiles(smiles) for smiles in moses_subset]\n",
    "    moses_not_in_historian = [h not in moses_in_historian for h in tqdm(hashed_moses)]\n",
    "    print ('loaded saved file')\n",
    "except:\n",
    "    chem_historian = pd.read_json('../../makeit-data/historian/chemicals.json.gz')\n",
    "    reaxys_products = chem_historian[chem_historian['as_product']>0]\n",
    "    hashed_moses = [hash_smiles(smiles) for smiles in moses_subset]\n",
    "    reaxys_hashed_smiles_int = reaxys_products['smiles'].values\n",
    "    moses_in_historian = set(hashed_moses).intersection(reaxys_hashed_smiles_int)\n",
    "    moses_not_in_historian = [h not in moses_in_historian for h in tqdm(hashed_moses)]\n",
    "    np.save(DATE+'_moses_in_bkms_train.npy', np.array(list(moses_in_train)))\n",
    "    \n",
    "print ('all_loaded')\n",
    "print (sum(moses_not_in_train_idxs))\n",
    "print (sum(moses_not_in_historian))"
   ]
  },
  {
   "cell_type": "code",
   "execution_count": 21,
   "metadata": {},
   "outputs": [],
   "source": [
    "try:\n",
    "    bkms_pred = np.load('{}_bkms_pred_MOSES50k.npy'.format(DATE))\n",
    "except:\n",
    "    bkms_pred = analyze_model(bkms_path, fps, trunc = 500)\n",
    "    np.save('{}_bkms_pred_MOSES50k'.format(DATE), bkms_pred)\n",
    "    \n",
    "    \n",
    "try:    \n",
    "    reaxys_pred = np.load('reaxys_pred_MOSES50k.npy')\n",
    "except:\n",
    "    reaxys_pred = analyze_model(reaxys_path, fps, trunc = 500)\n",
    "    np.save('reaxys_pred_MOSES50k', reaxys_pred)"
   ]
  },
  {
   "cell_type": "code",
   "execution_count": 22,
   "metadata": {},
   "outputs": [
    {
     "ename": "TypeError",
     "evalue": "list indices must be integers or slices, not str",
     "output_type": "error",
     "traceback": [
      "\u001b[0;31m---------------------------------------------------------------------------\u001b[0m",
      "\u001b[0;31mTypeError\u001b[0m                                 Traceback (most recent call last)",
      "\u001b[0;32m<ipython-input-22-e9aa5279483a>\u001b[0m in \u001b[0;36m<module>\u001b[0;34m\u001b[0m\n\u001b[0;32m----> 1\u001b[0;31m \u001b[0mChem\u001b[0m\u001b[0;34m.\u001b[0m\u001b[0mDraw\u001b[0m\u001b[0;34m.\u001b[0m\u001b[0mMolsToGridImage\u001b[0m\u001b[0;34m(\u001b[0m\u001b[0;34m[\u001b[0m\u001b[0mChem\u001b[0m\u001b[0;34m.\u001b[0m\u001b[0mMolFromSmiles\u001b[0m\u001b[0;34m(\u001b[0m\u001b[0mx\u001b[0m\u001b[0;34m)\u001b[0m \u001b[0;32mfor\u001b[0m \u001b[0mx\u001b[0m \u001b[0;32min\u001b[0m \u001b[0mmoses_subset\u001b[0m\u001b[0;34m[\u001b[0m\u001b[0;34m'SMILES'\u001b[0m\u001b[0;34m]\u001b[0m\u001b[0;34m.\u001b[0m\u001b[0mvalues\u001b[0m\u001b[0;34m[\u001b[0m\u001b[0mnp\u001b[0m\u001b[0;34m.\u001b[0m\u001b[0margsort\u001b[0m\u001b[0;34m(\u001b[0m\u001b[0mreaxys_pred\u001b[0m\u001b[0;34m[\u001b[0m\u001b[0;34m:\u001b[0m\u001b[0;34m,\u001b[0m \u001b[0;34m-\u001b[0m\u001b[0;36m1\u001b[0m\u001b[0;34m]\u001b[0m \u001b[0;34m-\u001b[0m \u001b[0mbkms_pred\u001b[0m\u001b[0;34m[\u001b[0m\u001b[0;34m:\u001b[0m\u001b[0;34m,\u001b[0m \u001b[0;34m-\u001b[0m\u001b[0;36m1\u001b[0m\u001b[0;34m]\u001b[0m\u001b[0;34m)\u001b[0m\u001b[0;34m[\u001b[0m\u001b[0;34m:\u001b[0m\u001b[0;36m50\u001b[0m\u001b[0;34m]\u001b[0m\u001b[0;34m]\u001b[0m\u001b[0;34m]\u001b[0m\u001b[0;34m,\u001b[0m \u001b[0mlegends\u001b[0m \u001b[0;34m=\u001b[0m \u001b[0;34m[\u001b[0m\u001b[0mstr\u001b[0m\u001b[0;34m(\u001b[0m\u001b[0mx\u001b[0m\u001b[0;34m)\u001b[0m \u001b[0;32mfor\u001b[0m \u001b[0mx\u001b[0m \u001b[0;32min\u001b[0m \u001b[0mnp\u001b[0m\u001b[0;34m.\u001b[0m\u001b[0msort\u001b[0m\u001b[0;34m(\u001b[0m\u001b[0mreaxys_pred\u001b[0m\u001b[0;34m[\u001b[0m\u001b[0;34m:\u001b[0m\u001b[0;34m,\u001b[0m \u001b[0;34m-\u001b[0m\u001b[0;36m1\u001b[0m\u001b[0;34m]\u001b[0m \u001b[0;34m-\u001b[0m \u001b[0mbkms_pred\u001b[0m\u001b[0;34m[\u001b[0m\u001b[0;34m:\u001b[0m\u001b[0;34m,\u001b[0m \u001b[0;34m-\u001b[0m\u001b[0;36m1\u001b[0m\u001b[0;34m]\u001b[0m\u001b[0;34m)\u001b[0m\u001b[0;34m[\u001b[0m\u001b[0;34m:\u001b[0m\u001b[0;36m50\u001b[0m\u001b[0;34m]\u001b[0m \u001b[0;34m]\u001b[0m\u001b[0;34m)\u001b[0m\u001b[0;34m\u001b[0m\u001b[0;34m\u001b[0m\u001b[0m\n\u001b[0m",
      "\u001b[0;31mTypeError\u001b[0m: list indices must be integers or slices, not str"
     ]
    }
   ],
   "source": [
    "Chem.Draw.MolsToGridImage([Chem.MolFromSmiles(x) for x in moses_subset['SMILES'].values[np.argsort(reaxys_pred[:, -1] - bkms_pred[:, -1])[:50]]], legends = [str(x) for x in np.sort(reaxys_pred[:, -1] - bkms_pred[:, -1])[:50] ])"
   ]
  },
  {
   "cell_type": "code",
   "execution_count": 23,
   "metadata": {},
   "outputs": [
    {
     "ename": "TypeError",
     "evalue": "list indices must be integers or slices, not str",
     "output_type": "error",
     "traceback": [
      "\u001b[0;31m---------------------------------------------------------------------------\u001b[0m",
      "\u001b[0;31mTypeError\u001b[0m                                 Traceback (most recent call last)",
      "\u001b[0;32m<ipython-input-23-c9247a14fafc>\u001b[0m in \u001b[0;36m<module>\u001b[0;34m\u001b[0m\n\u001b[0;32m----> 1\u001b[0;31m \u001b[0mmoses_subset\u001b[0m\u001b[0;34m[\u001b[0m\u001b[0;34m'SMILES'\u001b[0m\u001b[0;34m]\u001b[0m\u001b[0;34m.\u001b[0m\u001b[0mvalues\u001b[0m\u001b[0;34m[\u001b[0m\u001b[0mnp\u001b[0m\u001b[0;34m.\u001b[0m\u001b[0margsort\u001b[0m\u001b[0;34m(\u001b[0m\u001b[0mreaxys_pred\u001b[0m\u001b[0;34m[\u001b[0m\u001b[0;34m:\u001b[0m\u001b[0;34m,\u001b[0m \u001b[0;34m-\u001b[0m\u001b[0;36m1\u001b[0m\u001b[0;34m]\u001b[0m \u001b[0;34m-\u001b[0m \u001b[0mbkms_pred\u001b[0m\u001b[0;34m[\u001b[0m\u001b[0;34m:\u001b[0m\u001b[0;34m,\u001b[0m \u001b[0;34m-\u001b[0m\u001b[0;36m1\u001b[0m\u001b[0;34m]\u001b[0m\u001b[0;34m)\u001b[0m\u001b[0;34m[\u001b[0m\u001b[0;34m:\u001b[0m\u001b[0;36m50\u001b[0m\u001b[0;34m]\u001b[0m\u001b[0;34m]\u001b[0m\u001b[0;34m\u001b[0m\u001b[0;34m\u001b[0m\u001b[0m\n\u001b[0m",
      "\u001b[0;31mTypeError\u001b[0m: list indices must be integers or slices, not str"
     ]
    }
   ],
   "source": [
    "moses_subset['SMILES'].values[np.argsort(reaxys_pred[:, -1] - bkms_pred[:, -1])[:50]]"
   ]
  },
  {
   "cell_type": "code",
   "execution_count": 24,
   "metadata": {},
   "outputs": [
    {
     "data": {
      "text/plain": [
       "array([0.15040584, 1.8128531 , 3.3512342 , ..., 0.49173322, 0.501679  ,\n",
       "       2.4219513 ], dtype=float32)"
      ]
     },
     "execution_count": 24,
     "metadata": {},
     "output_type": "execute_result"
    }
   ],
   "source": [
    "reaxys_pred[:, -1] / bkms_pred[:, -1]"
   ]
  },
  {
   "cell_type": "code",
   "execution_count": 25,
   "metadata": {},
   "outputs": [
    {
     "data": {
      "image/png": "[encoded data removed]",
      "text/plain": [
       "<Figure size 122.4x122.4 with 1 Axes>"
      ]
     },
     "metadata": {
      "needs_background": "light"
     },
     "output_type": "display_data"
    }
   ],
   "source": [
    "plt.figure()\n",
    "plot_ind_distributions ([bkms_pred[np.multiply(moses_not_in_train_idxs, moses_not_in_historian),:], reaxys_pred[np.multiply(moses_not_in_train_idxs, moses_not_in_historian),:]], -1, \n",
    "                      figure_dir+'MOSES_score_comparison_traintestval.pdf',\n",
    "                      bins = 100, colors = ['cadetblue', 'black'], \n",
    "                        labels = ['Enzymatic', 'Organic'], \n",
    "                        alpha = 0.65, edgecolor=None)"
   ]
  },
  {
   "cell_type": "code",
   "execution_count": 26,
   "metadata": {},
   "outputs": [
    {
     "data": {
      "text/plain": [
       "(48869, 500)"
      ]
     },
     "execution_count": 26,
     "metadata": {},
     "output_type": "execute_result"
    }
   ],
   "source": [
    "bkms_pred[np.multiply(moses_not_in_train_idxs, moses_not_in_historian),:].shape"
   ]
  },
  {
   "cell_type": "code",
   "execution_count": 27,
   "metadata": {},
   "outputs": [
    {
     "name": "stdout",
     "output_type": "stream",
     "text": [
      "[array([0.01418143, 0.0161873 , 0.01878862, 0.02232447, 0.02711723,\n",
      "       0.03416632, 0.04502206, 0.06429037, 0.10593846, 0.32380956],\n",
      "      dtype=float32), array([0.01115243, 0.0133273 , 0.01628617, 0.02039069, 0.02647638,\n",
      "       0.03607812, 0.05268929, 0.08374566, 0.16531701, 0.44030938],\n",
      "      dtype=float32)]\n"
     ]
    },
    {
     "data": {
      "image/png": "[encoded data removed]",
      "text/plain": [
       "<Figure size 122.4x122.4 with 1 Axes>"
      ]
     },
     "metadata": {
      "needs_background": "light"
     },
     "output_type": "display_data"
    }
   ],
   "source": [
    "plot_scores ([bkms_pred[np.multiply(moses_not_in_train_idxs, moses_not_in_historian),-10:], reaxys_pred[np.multiply(moses_not_in_train_idxs, moses_not_in_historian),-10:]], \n",
    "             ['Enzymatic', 'Organic'], ['cadetblue', 'black'], \n",
    "             figure_dir+'top_10_mean_scores_moses_traintestval.pdf', markers = ['s', '^'], means = True, s=10, edgecolor='black', linewidth=0.5)"
   ]
  },
  {
   "cell_type": "markdown",
   "metadata": {},
   "source": [
    "## Benchmark on ZINC Biogenic"
   ]
  },
  {
   "cell_type": "code",
   "execution_count": 28,
   "metadata": {},
   "outputs": [],
   "source": [
    "try:\n",
    "    biogenic_fps = [tf.constant(x) for x in np.load('9Apr2021_v4_zinc_biogenic_50k_fingerprints_all.npy')]\n",
    "except:\n",
    "\n",
    "\n",
    "    biogenic_fps = [tf.constant(np.array([smiles_to_fingerprint(smi)]), dtype=tf.float32) for smi in not_in_train]\n",
    "    np.save('9Apr2021_v4_zinc_biogenic_50k_fingerprints_all', np.array([np.array(fp) for fp in biogenic_fps]))"
   ]
  },
  {
   "cell_type": "code",
   "execution_count": 29,
   "metadata": {},
   "outputs": [
    {
     "name": "stdout",
     "output_type": "stream",
     "text": [
      "all_loaded\n"
     ]
    }
   ],
   "source": [
    "try:    \n",
    "    reaxys_pred_biogenic = np.load('reaxys_pred_biogenic_mols_no_train.npy')\n",
    "except:\n",
    "    reaxys_pred_biogenic = analyze_model(reaxys_path, biogenic_fps, trunc = 500)\n",
    "    np.save('reaxys_pred_biogenic_mols_no_train', reaxys_pred_biogenic)\n",
    "try:    \n",
    "    bkms_pred_biogenic = np.load('{}_bkms_pred_biogenic_mols.npy'.format(DATE))\n",
    "except:\n",
    "    bkms_pred_biogenic = analyze_model(bkms_path, biogenic_fps, trunc = 500)\n",
    "    np.save('{}_bkms_pred_biogenic_mols'.format(DATE), bkms_pred_biogenic)\n",
    "    \n",
    "print ('all_loaded')\n"
   ]
  },
  {
   "cell_type": "code",
   "execution_count": 37,
   "metadata": {},
   "outputs": [
    {
     "name": "stdout",
     "output_type": "stream",
     "text": [
      "Loaded\n"
     ]
    },
    {
     "name": "stderr",
     "output_type": "stream",
     "text": [
      "100%|██████████| 49586/49586 [00:00<00:00, 117949.00it/s]"
     ]
    },
    {
     "name": "stdout",
     "output_type": "stream",
     "text": [
      "Loaded\n"
     ]
    },
    {
     "name": "stderr",
     "output_type": "stream",
     "text": [
      "\n"
     ]
    }
   ],
   "source": [
    "try:\n",
    "    zinc_in_train = np.load(DATE+'_zinc_in_bkms_train.npy')\n",
    "    not_in_train = [smiles for smiles in std_biogenic if smiles not in zinc_in_train]\n",
    "    print ('Loaded')\n",
    "except:\n",
    "    np.random.seed(111)\n",
    "    biogenic = pd.read_csv('../../b-o-t/biogenic_2015.csv')\n",
    "    rand_inds = np.random.choice(len(biogenic), 50000)\n",
    "    biogenic = biogenic.loc[rand_inds, :]\n",
    "    bkms_train = np.concatenate([np.load('../../template-relevance/data/processed/12May2021-bkmstrain.input.smiles.npy'),\n",
    "                    np.load('../../template-relevance/data/processed/12May2021-bkmsvalid.input.smiles.npy'),\n",
    "                    np.load('../../template-relevance/data/processed/12May2021-bkmstest.input.smiles.npy')])\n",
    "    std_biogenic = standardize_smiles_list(biogenic['smiles'])\n",
    "    std_bkms_train = standardize_smiles_list(bkms_train)\n",
    "    not_in_train = [smiles for smiles in std_biogenic if smiles not in std_bkms_train]\n",
    "    np.save(DATE+'_zinc_in_bkms_train.npy', np.array(list(std_bkms_train)))\n",
    "\n",
    "try:\n",
    "    zinc_in_historian = np.load(DATE+'_zinc_in_reaxys_train.npy')\n",
    "    hashed_zinc = [hash_smiles(smiles) for smiles in not_in_train]\n",
    "    zinc_not_in_historian = [h not in zinc_in_historian for h in tqdm(hashed_zinc)]\n",
    "    print ('Loaded')\n",
    "except:\n",
    "    hashed_zinc = [hash_smiles(smiles) for smiles in not_in_train]\n",
    "    print (len(hashed_zinc))\n",
    "    reaxys_hashed_smiles_int = reaxys_products['smiles'].values\n",
    "    zinc_in_historian = set(reaxys_hashed_smiles_int).intersection(hashed_zinc)\n",
    "    zinc_not_in_historian = [h not in zinc_in_historian for h in tqdm(hashed_zinc)]\n",
    "    np.save(DATE+'_zinc_in_reaxys_train.npy', np.array(list(zinc_in_historian)))"
   ]
  },
  {
   "cell_type": "code",
   "execution_count": null,
   "metadata": {},
   "outputs": [],
   "source": [
    "Chem.Draw.MolsToGridImage([Chem.MolFromSmiles(x) for x in moses_subset['SMILES'].values[np.argsort(reaxys_pred_biogenic[:, -1] - bkms_pred_biogenic[:, -1])[:50]]], legends = [str(x) for x in np.sort(reaxys_pred_biogenic[:, -1] - bkms_pred_biogenic[:, -1])[:50] ])"
   ]
  },
  {
   "cell_type": "code",
   "execution_count": null,
   "metadata": {},
   "outputs": [],
   "source": [
    "moses_subset['SMILES'].values[np.argsort(reaxys_pred_biogenic[:, -1] - bkms_pred_biogenic[:, -1])[:50]]"
   ]
  },
  {
   "cell_type": "code",
   "execution_count": null,
   "metadata": {},
   "outputs": [],
   "source": [
    "Chem.Draw.MolsToGridImage([Chem.MolFromSmiles(x) for x in moses_subset['SMILES'].values[np.argsort(- reaxys_pred_biogenic[:, -1] + bkms_pred_biogenic[:, -1])[:50]]], legends = [str(x) for x in np.sort(- reaxys_pred_biogenic[:, -1] + bkms_pred_biogenic[:, -1])[:50] ])"
   ]
  },
  {
   "cell_type": "code",
   "execution_count": null,
   "metadata": {},
   "outputs": [],
   "source": [
    "moses_subset['SMILES'].values[np.argsort(-reaxys_pred_biogenic[:, -1] + bkms_pred_biogenic[:, -1])[:50]]"
   ]
  },
  {
   "cell_type": "code",
   "execution_count": 38,
   "metadata": {},
   "outputs": [
    {
     "data": {
      "image/png": "[encoded data removed]",
      "text/plain": [
       "<Figure size 122.4x122.4 with 1 Axes>"
      ]
     },
     "metadata": {
      "needs_background": "light"
     },
     "output_type": "display_data"
    }
   ],
   "source": [
    "plot_ind_distributions ([bkms_pred_biogenic[zinc_not_in_historian, :], reaxys_pred_biogenic[zinc_not_in_historian, :]], -1, \n",
    "                      figure_dir+'ZINC_score_comparison_no_train.pdf',\n",
    "                      bins = 100, colors = ['cadetblue', 'black'], \n",
    "                        labels = ['Enzymatic', 'Organic'], \n",
    "                        alpha = 0.65)"
   ]
  },
  {
   "cell_type": "code",
   "execution_count": 39,
   "metadata": {},
   "outputs": [
    {
     "name": "stdout",
     "output_type": "stream",
     "text": [
      "[array([0.01143971, 0.01326866, 0.01564363, 0.01901993, 0.02363009,\n",
      "       0.03068355, 0.04268273, 0.06511971, 0.12234063, 0.4502207 ],\n",
      "      dtype=float32), array([0.01585813, 0.01851   , 0.02174681, 0.02672339, 0.0328624 ,\n",
      "       0.04208014, 0.05602099, 0.0806905 , 0.13901506, 0.32599017],\n",
      "      dtype=float32)]\n"
     ]
    },
    {
     "data": {
      "image/png": "[encoded data removed]",
      "text/plain": [
       "<Figure size 122.4x122.4 with 1 Axes>"
      ]
     },
     "metadata": {
      "needs_background": "light"
     },
     "output_type": "display_data"
    }
   ],
   "source": [
    "plot_scores ([bkms_pred_biogenic[zinc_not_in_historian,-10:], reaxys_pred_biogenic[zinc_not_in_historian,-10:]], \n",
    "             ['Enzymatic', 'Organic'], ['cadetblue', 'black'], \n",
    "             figure_dir+'top_10_mean_scores_biogenic_no_train.pdf', markers=['s', '^'], means = True, s=10, edgecolor='black', linewidth=0.5)"
   ]
  },
  {
   "cell_type": "code",
   "execution_count": 41,
   "metadata": {},
   "outputs": [
    {
     "name": "stdout",
     "output_type": "stream",
     "text": [
      "0.9555137\n",
      "5943\n"
     ]
    },
    {
     "data": {
      "image/png": "[encoded data removed]",
      "text/plain": [
       "<rdkit.Chem.rdchem.Mol at 0x15b8b2a30>"
      ]
     },
     "execution_count": 41,
     "metadata": {},
     "output_type": "execute_result"
    }
   ],
   "source": [
    "print (np.max(reaxys_pred_biogenic[:, -1] - bkms_pred_biogenic[:, -1]))\n",
    "print (np.argmax(reaxys_pred_biogenic[:, -1] - bkms_pred_biogenic[:, -1]))\n",
    "Chem.MolFromSmiles(not_in_train[np.argmax(reaxys_pred_biogenic[:, -1] - bkms_pred_biogenic[:, -1])])"
   ]
  },
  {
   "cell_type": "code",
   "execution_count": null,
   "metadata": {},
   "outputs": [],
   "source": [
    "plot_comp(bkms_pred_biogenic[:,-10:], reaxys_pred_biogenic[:,-10:], 'bio_score', 'chem_score', \n",
    "        color = 'black',  label = 'Natural products', s=10, edgecolor='black', linewidth=0.5, marker = 's')\n",
    "# fig, ax_arr = plt.subplots(1,1, figsize = (6,6))\n",
    "\n",
    "# plot_comp(bkms_pred[:,-10:], reaxys_pred[:,-10:], 'bio_score', 'chem_score', \n",
    "#           color = 'darkgray',  label = 'Small organics', s=10, edgecolor='black', linewidth=0.5, marker = '^')\n",
    "# plot_comp(bkms_pred[:,-10:], reaxys_pred[:,-10:], 'bio_score', 'chem_score', \n",
    "#           '../figures/top_10_fraction_chem_gt_bio_MOSES.png', color = 'navy', axs = ax_arr, label = 'BKMS > Reaxys')\n",
    "# plt.grid()\n",
    "plt.ylabel('Fraction of Molecules')\n",
    "# plt.legend()\n",
    "\n",
    "# ax_arr.grid()\n",
    "# plt.legend(title='Input set', labelspacing=0.2, handletextpad=0.5, handlelength=1)#, bbox_to_anchor=(1.05, 0.7), loc='upper left')\n",
    "plt.xticks(range(1,11))\n",
    "plt.ylim((0.2,0.8))\n",
    "plt.xlim((0.8,10.2))\n",
    "plt.tight_layout(pad=0)\n",
    "plt.savefig(figure_dir+'top_10_fraction_biogenic_no_train.pdf', dpi=300)"
   ]
  },
  {
   "cell_type": "code",
   "execution_count": null,
   "metadata": {},
   "outputs": [],
   "source": [
    "plot_comp(bkms_pred[:,-10:], reaxys_pred[:,-10:], 'bio_score', 'chem_score', \n",
    "          color = 'black',  label = 'Small organics', s=10, edgecolor='black', linewidth=0.5, marker = 's')\n",
    "# plot_comp(bkms_pred[:,-10:], reaxys_pred[:,-10:], 'bio_score', 'chem_score', \n",
    "#           '../figures/top_10_fraction_chem_gt_bio_MOSES.png', color = 'navy', axs = ax_arr, label = 'BKMS > Reaxys')\n",
    "# plt.grid()\n",
    "plt.ylabel('Fraction of Molecules')\n",
    "# plt.legend()\n",
    "\n",
    "# ax_arr.grid()\n",
    "# plt.legend(title='Input set', labelspacing=0.2, handletextpad=0.5, handlelength=1)#, bbox_to_anchor=(1.05, 0.7), loc='upper left')\n",
    "plt.xticks(range(0,11))\n",
    "plt.ylim((0.2,0.8))\n",
    "plt.xlim((0.8,10.2))\n",
    "plt.tight_layout(pad=0)\n",
    "plt.savefig(figure_dir+'top_10_fraction_MOSES_no_train.pdf', dpi=300)"
   ]
  },
  {
   "cell_type": "code",
   "execution_count": 54,
   "metadata": {},
   "outputs": [
    {
     "name": "stdout",
     "output_type": "stream",
     "text": [
      "[0.319343551126481, 0.691685935869365, 0.8836071947451349, 0.9520145695635269, 0.9808467535656551, 0.9921627207432114, 0.9966645521700873, 0.9984857476109599, 0.9991405594548691, 0.9995907425975568, 0.9998158341689005, 0.9999181485195113, 0.9999386113896335, 0.9999386113896335, 0.9999590742597556, 0.9999795371298777, 0.9999999999999999]\n",
      "[0.68065645 0.95974953 0.99236735 0.99828112 0.99961121 0.9998363\n",
      " 0.99995907 0.99997954 1.         0.        ]\n"
     ]
    },
    {
     "data": {
      "image/png": "[encoded data removed]",
      "text/plain": [
       "<Figure size 122.4x122.4 with 1 Axes>"
      ]
     },
     "metadata": {
      "needs_background": "light"
     },
     "output_type": "display_data"
    }
   ],
   "source": [
    "keep_idxs = np.multiply(moses_not_in_train_idxs, moses_not_in_historian)\n",
    "plot_comp_2(reaxys_pred[keep_idxs,:], bkms_pred[keep_idxs,:], 'bio_score', 'chem_score', \n",
    "          color = 'cadetblue',  label = 'Small organics',  cumulative=True, s=10, edgecolor='black', linewidth=0.5, marker = 's')\n",
    "\n",
    "plot_comp_2(bkms_pred[keep_idxs,:], reaxys_pred[keep_idxs,:], 'bio_score', 'chem_score', \n",
    "          color = 'black',  label = 'Small organics', cumulative=True, s=10, edgecolor='black', linewidth=0.5, marker = '^')\n",
    "\n",
    "plt.ylabel('Likelihood template set is\\n among top overall suggestions')\n",
    "plt.xlabel('Number of top overall suggestions')\n",
    "# plt.legend()\n",
    "\n",
    "# ax_arr.grid()\n",
    "# plt.legend(title='Input set', labelspacing=0.2, handletextpad=0.5, handlelength=1)#, bbox_to_anchor=(1.05, 0.7), loc='upper left')\n",
    "plt.xticks(range(0,6))\n",
    "plt.xlim((0.8,5.2))\n",
    "plt.ylim(.25,1.05)\n",
    "plt.tight_layout(pad=0.2)\n",
    "plt.savefig(figure_dir+'overall_enzymatic_rank_MOSES_no_train.pdf', dpi=300)"
   ]
  },
  {
   "cell_type": "code",
   "execution_count": 194,
   "metadata": {},
   "outputs": [
    {
     "name": "stdout",
     "output_type": "stream",
     "text": [
      "[0.0, 0.6514354703390698, 0.8759745441895681, 0.9502956884732654, 0.9804579590333341, 0.9919990177822342, 0.9966236264298431, 0.9984652847408378, 0.9991405594548692, 0.9995907425975569, 0.9998158341689006, 0.9999181485195114, 0.9999386113896336, 0.9999386113896336, 0.9999590742597557, 0.9999795371298779, 1.0]\n"
     ]
    },
    {
     "data": {
      "image/png": "[encoded data removed]",
      "text/plain": [
       "<Figure size 122.4x122.4 with 1 Axes>"
      ]
     },
     "metadata": {
      "needs_background": "light"
     },
     "output_type": "display_data"
    }
   ],
   "source": [
    "keep_idxs = np.multiply(moses_not_in_train_idxs, moses_not_in_historian)\n",
    "plot_comp_3(reaxys_pred[keep_idxs,:], bkms_pred[keep_idxs,:], 'bio_score', 'chem_score', \n",
    "          color = 'black',  label = 'Small organics', edgecolor='black', linewidth=0.5)\n",
    "\n",
    "plt.ylabel('Fraction of molecules with \\n templates from both sets ranked ≤ n')\n",
    "plt.xlabel('n')\n",
    "# plt.legend()\n",
    "\n",
    "# ax_arr.grid()\n",
    "# plt.legend(title='Input set', labelspacing=0.2, handletextpad=0.5, handlelength=1)#, bbox_to_anchor=(1.05, 0.7), loc='upper left')\n",
    "plt.xticks(range(0,6))\n",
    "plt.xlim((0.8,5.6))\n",
    "plt.ylim(.25,1.05)\n",
    "plt.tight_layout(pad=0.2)\n",
    "plt.savefig(figure_dir+'rank_of_both_MOSES_no_train.pdf', dpi=300)"
   ]
  },
  {
   "cell_type": "code",
   "execution_count": 195,
   "metadata": {},
   "outputs": [
    {
     "name": "stdout",
     "output_type": "stream",
     "text": [
      "[0.0, 0.7176862440324192, 0.9149772399245031, 0.9699344953924725, 0.9895636726990118, 0.9958032641279004, 0.9980903741534362, 0.9991340068835349, 0.9995114910625068, 0.9997335405795491, 0.9999111801931829, 0.9999777950482956, 0.9999999999999999]\n"
     ]
    },
    {
     "data": {
      "image/png": "[encoded data removed]",
      "text/plain": [
       "<Figure size 122.4x122.4 with 1 Axes>"
      ]
     },
     "metadata": {
      "needs_background": "light"
     },
     "output_type": "display_data"
    }
   ],
   "source": [
    "keep_idxs = zinc_not_in_historian\n",
    "plot_comp_3(reaxys_pred_biogenic[keep_idxs,:], bkms_pred_biogenic[keep_idxs,:], 'bio_score', 'chem_score', \n",
    "          color = 'black',  label = 'Small organics', edgecolor='black', linewidth=0.5)\n",
    "\n",
    "plt.ylabel('Fraction of molecules with \\n templates from both sets ranked ≤ n')\n",
    "plt.xlabel('n')\n",
    "# plt.legend()\n",
    "\n",
    "# ax_arr.grid()\n",
    "# plt.legend(title='Input set', labelspacing=0.2, handletextpad=0.5, handlelength=1)#, bbox_to_anchor=(1.05, 0.7), loc='upper left')\n",
    "plt.xticks(range(0,6))\n",
    "plt.xlim((0.8,5.6))\n",
    "plt.ylim(.25,1.05)\n",
    "plt.tight_layout(pad=0.2)\n",
    "plt.savefig(figure_dir+'rank_of_both_ZINC_no_train.pdf', dpi=300)"
   ]
  },
  {
   "cell_type": "code",
   "execution_count": 176,
   "metadata": {},
   "outputs": [],
   "source": [
    "arr_1 = reaxys_pred[keep_idxs,:]\n",
    "arr_2 = bkms_pred[keep_idxs,:]\n",
    "comp_1 =  arr_1.shape[1]-np.sum((arr_1 < arr_2[:, -1][:, None]), axis=1)\n",
    "comp_2 =  arr_2.shape[1]-np.sum((arr_2 < arr_1[:, -1][:, None]), axis=1)\n",
    "comp = np.bincount(np.max(np.stack([comp_1, comp_2]), axis=0)) / arr_1.shape[0]\n",
    "\n",
    "\n",
    "# comp = comp_1 / 2 + comp_2 / 2\n",
    "\n",
    "comp = [sum(comp[:i+1]) for i in range(len(comp))]"
   ]
  },
  {
   "cell_type": "code",
   "execution_count": 177,
   "metadata": {},
   "outputs": [
    {
     "data": {
      "text/plain": [
       "[0.0,\n",
       " 0.6514354703390698,\n",
       " 0.8759745441895681,\n",
       " 0.9502956884732654,\n",
       " 0.9804579590333341,\n",
       " 0.9919990177822342,\n",
       " 0.9966236264298431,\n",
       " 0.9984652847408378,\n",
       " 0.9991405594548692,\n",
       " 0.9995907425975569,\n",
       " 0.9998158341689006,\n",
       " 0.9999181485195114,\n",
       " 0.9999386113896336,\n",
       " 0.9999386113896336,\n",
       " 0.9999590742597557,\n",
       " 0.9999795371298779,\n",
       " 1.0]"
      ]
     },
     "execution_count": 177,
     "metadata": {},
     "output_type": "execute_result"
    }
   ],
   "source": [
    "comp"
   ]
  },
  {
   "cell_type": "code",
   "execution_count": 55,
   "metadata": {},
   "outputs": [
    {
     "name": "stdout",
     "output_type": "stream",
     "text": [
      "[0.6425446874653048, 0.8855112690129899, 0.9627622959920062, 0.9864549794604197, 0.9948262462529145, 0.9977795048295771, 0.9989341623181971, 0.9995559009659155, 0.9997113356278451, 0.9997779504829578, 0.9999111801931831, 0.9999777950482959, 1.0]\n",
      "[0.35745531253469526, 0.8321749750194294, 0.952214943932497, 0.9834795159320529, 0.9947374264460975, 0.9980237592983235, 0.9991562118352393, 0.9995781059176196, 0.9998001554346619, 0.9999555900965915, 1.0]\n"
     ]
    },
    {
     "data": {
      "image/png": "[encoded data removed]",
      "text/plain": [
       "<Figure size 122.4x122.4 with 1 Axes>"
      ]
     },
     "metadata": {
      "needs_background": "light"
     },
     "output_type": "display_data"
    }
   ],
   "source": [
    "plot_comp_2(reaxys_pred_biogenic[zinc_not_in_historian, :], bkms_pred_biogenic[zinc_not_in_historian, :], 'bio_score', 'chem_score', \n",
    "          color = 'cadetblue',  label = 'Natural Products',  cumulative=True, s=10, edgecolor='black', linewidth=0.5, marker = 's')\n",
    "\n",
    "plot_comp_2(bkms_pred_biogenic[zinc_not_in_historian, :], reaxys_pred_biogenic[zinc_not_in_historian, :], 'bio_score', 'chem_score', \n",
    "          color = 'black',  label = 'Natural Products', cumulative=True, s=10, edgecolor='black', linewidth=0.5, marker = '^')\n",
    "plt.ylabel('Likelihood template set is\\n among top overall suggestions')\n",
    "plt.xlabel('Number of top overall suggestions')\n",
    "plt.xticks(range(0,6))\n",
    "plt.xlim((0.8,5.2))\n",
    "plt.ylim(.25,1.05)\n",
    "plt.tight_layout(pad=0.2)\n",
    "plt.savefig(figure_dir+'overall_enzymatic_rank_biogenic_no_train.pdf', dpi=300)"
   ]
  },
  {
   "cell_type": "code",
   "execution_count": 228,
   "metadata": {},
   "outputs": [
    {
     "data": {
      "text/plain": [
       "(45035, 500)"
      ]
     },
     "execution_count": 228,
     "metadata": {},
     "output_type": "execute_result"
    }
   ],
   "source": [
    "bkms_pred_biogenic[zinc_not_in_historian, :].shape"
   ]
  },
  {
   "cell_type": "code",
   "execution_count": 55,
   "metadata": {},
   "outputs": [
    {
     "data": {
      "image/png": "[encoded data removed]",
      "text/plain": [
       "<Figure size 432x432 with 1 Axes>"
      ]
     },
     "metadata": {
      "needs_background": "light"
     },
     "output_type": "display_data"
    }
   ],
   "source": [
    "fig, ax_arr = plt.subplots(1,1, figsize = (6,6))\n",
    "plot_comp(np.sqrt(bioreaxys_pred_biogenic)[:,-100:], reaxys_pred_biogenic[:,-100:], 'bio_score', 'chem_score', \n",
    "          '', color = 'orange', axs = ax_arr, label = 'Reaxys enzymatic > Reaxys')\n",
    "plot_comp(np.sqrt(bkms_pred_biogenic)[:,-100:], reaxys_pred_biogenic[:,-100:], 'bio_score', 'chem_score', \n",
    "          '', color = 'navy', axs = ax_arr, label = 'BKMS > Reaxys')\n",
    "ax_arr.grid()\n",
    "plt.legend()\n",
    "# ax_arr.set_ylim((0,0.6))\n",
    "plt.savefig('../figures/scaled_top_10_fraction_biogenic_zinc,bkms_gt_reaxys_BKMS.png')"
   ]
  },
  {
   "cell_type": "markdown",
   "metadata": {},
   "source": [
    "## Compare molecule sets"
   ]
  },
  {
   "cell_type": "code",
   "execution_count": 18,
   "metadata": {},
   "outputs": [
    {
     "ename": "KeyboardInterrupt",
     "evalue": "",
     "output_type": "error",
     "traceback": [
      "\u001b[0;31m---------------------------------------------------------------------------\u001b[0m",
      "\u001b[0;31mKeyboardInterrupt\u001b[0m                         Traceback (most recent call last)",
      "\u001b[0;32m<ipython-input-18-5741e22fa09e>\u001b[0m in \u001b[0;36m<module>\u001b[0;34m\u001b[0m\n\u001b[0;32m----> 1\u001b[0;31m \u001b[0mstd_moses\u001b[0m \u001b[0;34m=\u001b[0m \u001b[0mstandardize_smiles_list\u001b[0m\u001b[0;34m(\u001b[0m\u001b[0mmoses\u001b[0m\u001b[0;34m[\u001b[0m\u001b[0;34m'SMILES'\u001b[0m\u001b[0;34m]\u001b[0m\u001b[0;34m)\u001b[0m\u001b[0;34m\u001b[0m\u001b[0;34m\u001b[0m\u001b[0m\n\u001b[0m",
      "\u001b[0;32m<ipython-input-3-81900475a970>\u001b[0m in \u001b[0;36mstandardize_smiles_list\u001b[0;34m(smi_ls)\u001b[0m\n\u001b[1;32m     27\u001b[0m         \u001b[0mmol\u001b[0m \u001b[0;34m=\u001b[0m \u001b[0mChem\u001b[0m\u001b[0;34m.\u001b[0m\u001b[0mMolFromSmiles\u001b[0m\u001b[0;34m(\u001b[0m\u001b[0msmi\u001b[0m\u001b[0;34m)\u001b[0m\u001b[0;34m\u001b[0m\u001b[0;34m\u001b[0m\u001b[0m\n\u001b[1;32m     28\u001b[0m         \u001b[0;32mfor\u001b[0m \u001b[0matm\u001b[0m \u001b[0;32min\u001b[0m \u001b[0mmol\u001b[0m\u001b[0;34m.\u001b[0m\u001b[0mGetAtoms\u001b[0m\u001b[0;34m(\u001b[0m\u001b[0;34m)\u001b[0m\u001b[0;34m:\u001b[0m\u001b[0;34m\u001b[0m\u001b[0;34m\u001b[0m\u001b[0m\n\u001b[0;32m---> 29\u001b[0;31m             \u001b[0matm\u001b[0m\u001b[0;34m.\u001b[0m\u001b[0mSetAtomMapNum\u001b[0m\u001b[0;34m(\u001b[0m\u001b[0;36m0\u001b[0m\u001b[0;34m)\u001b[0m\u001b[0;34m\u001b[0m\u001b[0;34m\u001b[0m\u001b[0m\n\u001b[0m\u001b[1;32m     30\u001b[0m         \u001b[0mstd_ls\u001b[0m\u001b[0;34m.\u001b[0m\u001b[0mappend\u001b[0m\u001b[0;34m(\u001b[0m\u001b[0mChem\u001b[0m\u001b[0;34m.\u001b[0m\u001b[0mMolToSmiles\u001b[0m\u001b[0;34m(\u001b[0m\u001b[0mmol\u001b[0m\u001b[0;34m)\u001b[0m\u001b[0;34m)\u001b[0m\u001b[0;34m\u001b[0m\u001b[0;34m\u001b[0m\u001b[0m\n\u001b[1;32m     31\u001b[0m     \u001b[0;32mreturn\u001b[0m \u001b[0mstd_ls\u001b[0m\u001b[0;34m\u001b[0m\u001b[0;34m\u001b[0m\u001b[0m\n",
      "\u001b[0;31mKeyboardInterrupt\u001b[0m: "
     ]
    }
   ],
   "source": [
    "std_moses = standardize_smiles_list(moses['SMILES'])"
   ]
  },
  {
   "cell_type": "code",
   "execution_count": 38,
   "metadata": {},
   "outputs": [],
   "source": [
    "std_moses = standardize_smiles_list(moses_subset['SMILES'])"
   ]
  },
  {
   "cell_type": "code",
   "execution_count": 39,
   "metadata": {},
   "outputs": [],
   "source": [
    "same = [s in std_biogenic for s in std_moses]"
   ]
  },
  {
   "cell_type": "code",
   "execution_count": 40,
   "metadata": {},
   "outputs": [
    {
     "data": {
      "text/plain": [
       "14"
      ]
     },
     "execution_count": 40,
     "metadata": {},
     "output_type": "execute_result"
    }
   ],
   "source": [
    "np.sum(same)"
   ]
  },
  {
   "cell_type": "code",
   "execution_count": 41,
   "metadata": {},
   "outputs": [],
   "source": [
    "bkms_hist = pd.read_json('temprel/data/processed/historian.bio.json.gz')\n",
    "# bio_train = np.load('temprel/data/processed/bioreaxys-ss-train.input.smiles.npy')\n",
    "# bkms_train = np.load('../../rotation/template-relevance/data/processed/train.input.smiles.npy')\n",
    "\n",
    "\n",
    "std_bkms_hist = standardize_smiles_list(bkms_hist['smiles'])\n",
    "std_bio_train = standardize_smiles_list(bio_train)\n",
    "std_bkms_train = standardize_smiles_list(bkms_train)\n",
    "\n",
    "bkms_not_in_bkms_train = [smiles for smiles in std_bkms_hist if smiles not in std_bkms_train]\n",
    "bkms_not_in_train = [smiles for smiles in bkms_not_in_bkms_train if smiles not in std_bio_train]"
   ]
  },
  {
   "cell_type": "code",
   "execution_count": 42,
   "metadata": {},
   "outputs": [],
   "source": [
    "same_bkms_biogenic = [s in std_biogenic for s in bkms_not_in_train]"
   ]
  },
  {
   "cell_type": "code",
   "execution_count": 43,
   "metadata": {},
   "outputs": [
    {
     "data": {
      "text/plain": [
       "113"
      ]
     },
     "execution_count": 43,
     "metadata": {},
     "output_type": "execute_result"
    }
   ],
   "source": [
    "np.sum(same_bkms_biogenic)"
   ]
  },
  {
   "cell_type": "code",
   "execution_count": 52,
   "metadata": {},
   "outputs": [
    {
     "data": {
      "text/plain": [
       "(49624, 500)"
      ]
     },
     "execution_count": 52,
     "metadata": {},
     "output_type": "execute_result"
    }
   ],
   "source": [
    "bioreaxys_pred_biogenic.shape"
   ]
  },
  {
   "cell_type": "code",
   "execution_count": 48,
   "metadata": {},
   "outputs": [
    {
     "ename": "OSError",
     "evalue": "SavedModel file does not exist at: ../for GCP/bkms_model_all_data/{saved_model.pbtxt|saved_model.pb}",
     "output_type": "error",
     "traceback": [
      "\u001b[0;31m---------------------------------------------------------------------------\u001b[0m",
      "\u001b[0;31mOSError\u001b[0m                                   Traceback (most recent call last)",
      "\u001b[0;32m<ipython-input-48-e01b0a777e79>\u001b[0m in \u001b[0;36m<module>\u001b[0;34m\u001b[0m\n\u001b[0;32m----> 1\u001b[0;31m \u001b[0mold_model\u001b[0m \u001b[0;34m=\u001b[0m \u001b[0mtf\u001b[0m\u001b[0;34m.\u001b[0m\u001b[0mkeras\u001b[0m\u001b[0;34m.\u001b[0m\u001b[0mmodels\u001b[0m\u001b[0;34m.\u001b[0m\u001b[0mload_model\u001b[0m\u001b[0;34m(\u001b[0m\u001b[0mbkms_path\u001b[0m\u001b[0;34m)\u001b[0m\u001b[0;34m\u001b[0m\u001b[0;34m\u001b[0m\u001b[0m\n\u001b[0m\u001b[1;32m      2\u001b[0m \u001b[0;31m# new_model = tf.keras.models.load_model(bkms_simple)\u001b[0m\u001b[0;34m\u001b[0m\u001b[0;34m\u001b[0m\u001b[0;34m\u001b[0m\u001b[0m\n",
      "\u001b[0;32m/opt/anaconda3/envs/my-rdkit-env/lib/python3.7/site-packages/tensorflow_core/python/keras/saving/save.py\u001b[0m in \u001b[0;36mload_model\u001b[0;34m(filepath, custom_objects, compile)\u001b[0m\n\u001b[1;32m    147\u001b[0m \u001b[0;34m\u001b[0m\u001b[0m\n\u001b[1;32m    148\u001b[0m   \u001b[0;32mif\u001b[0m \u001b[0misinstance\u001b[0m\u001b[0;34m(\u001b[0m\u001b[0mfilepath\u001b[0m\u001b[0;34m,\u001b[0m \u001b[0msix\u001b[0m\u001b[0;34m.\u001b[0m\u001b[0mstring_types\u001b[0m\u001b[0;34m)\u001b[0m\u001b[0;34m:\u001b[0m\u001b[0;34m\u001b[0m\u001b[0;34m\u001b[0m\u001b[0m\n\u001b[0;32m--> 149\u001b[0;31m     \u001b[0mloader_impl\u001b[0m\u001b[0;34m.\u001b[0m\u001b[0mparse_saved_model\u001b[0m\u001b[0;34m(\u001b[0m\u001b[0mfilepath\u001b[0m\u001b[0;34m)\u001b[0m\u001b[0;34m\u001b[0m\u001b[0;34m\u001b[0m\u001b[0m\n\u001b[0m\u001b[1;32m    150\u001b[0m     \u001b[0;32mreturn\u001b[0m \u001b[0msaved_model_load\u001b[0m\u001b[0;34m.\u001b[0m\u001b[0mload\u001b[0m\u001b[0;34m(\u001b[0m\u001b[0mfilepath\u001b[0m\u001b[0;34m,\u001b[0m \u001b[0mcompile\u001b[0m\u001b[0;34m)\u001b[0m\u001b[0;34m\u001b[0m\u001b[0;34m\u001b[0m\u001b[0m\n\u001b[1;32m    151\u001b[0m \u001b[0;34m\u001b[0m\u001b[0m\n",
      "\u001b[0;32m/opt/anaconda3/envs/my-rdkit-env/lib/python3.7/site-packages/tensorflow_core/python/saved_model/loader_impl.py\u001b[0m in \u001b[0;36mparse_saved_model\u001b[0;34m(export_dir)\u001b[0m\n\u001b[1;32m     81\u001b[0m                   (export_dir,\n\u001b[1;32m     82\u001b[0m                    \u001b[0mconstants\u001b[0m\u001b[0;34m.\u001b[0m\u001b[0mSAVED_MODEL_FILENAME_PBTXT\u001b[0m\u001b[0;34m,\u001b[0m\u001b[0;34m\u001b[0m\u001b[0;34m\u001b[0m\u001b[0m\n\u001b[0;32m---> 83\u001b[0;31m                    constants.SAVED_MODEL_FILENAME_PB))\n\u001b[0m\u001b[1;32m     84\u001b[0m \u001b[0;34m\u001b[0m\u001b[0m\n\u001b[1;32m     85\u001b[0m \u001b[0;34m\u001b[0m\u001b[0m\n",
      "\u001b[0;31mOSError\u001b[0m: SavedModel file does not exist at: ../for GCP/bkms_model_all_data/{saved_model.pbtxt|saved_model.pb}"
     ]
    }
   ],
   "source": [
    "old_model = tf.keras.models.load_model(bkms_path)\n",
    "# new_model = tf.keras.models.load_model(bkms_simple)"
   ]
  },
  {
   "cell_type": "code",
   "execution_count": null,
   "metadata": {},
   "outputs": [],
   "source": [
    "old_model.signatures['serving_default']"
   ]
  },
  {
   "cell_type": "code",
   "execution_count": 42,
   "metadata": {},
   "outputs": [],
   "source": [
    "# new_model.signatures['serving_default']"
   ]
  },
  {
   "cell_type": "code",
   "execution_count": 9,
   "metadata": {},
   "outputs": [],
   "source": [
    "\n",
    "\n",
    "fp = [tf.constant(np.array([smiles_to_fingerprint(smi)]), dtype=tf.float32) for smi in ['Brc1ccc2[nH]c3c(c2c1)CCNC3']]\n",
    "# fp_2 = [tf.constant(np.array([smiles_to_fingerprint(smi)]), dtype=tf.float32) for smi in ['CC1=CC2C(C(C)C)CC[C@@H](C)C2CC1']]"
   ]
  },
  {
   "cell_type": "code",
   "execution_count": 10,
   "metadata": {},
   "outputs": [],
   "source": [
    "test = analyze_model(bkms_path, fp)\n",
    "# test_2 = analyze_model(bkms_path, fp_2)"
   ]
  },
  {
   "cell_type": "code",
   "execution_count": 11,
   "metadata": {},
   "outputs": [
    {
     "data": {
      "text/plain": [
       "1841"
      ]
     },
     "execution_count": 11,
     "metadata": {},
     "output_type": "execute_result"
    }
   ],
   "source": [
    "srted = np.argsort(test)[0]\n",
    "len(srted) - list(srted).index(2596)"
   ]
  },
  {
   "cell_type": "code",
   "execution_count": 12,
   "metadata": {},
   "outputs": [
    {
     "name": "stdout",
     "output_type": "stream",
     "text": [
      "[4.836346e-06]\n"
     ]
    }
   ],
   "source": [
    "ind = 2596\n",
    "print ([c[ind] for c in test])\n",
    "# print (test_2[0][ind])"
   ]
  },
  {
   "cell_type": "code",
   "execution_count": 13,
   "metadata": {},
   "outputs": [
    {
     "ename": "NameError",
     "evalue": "name 'fp_2' is not defined",
     "output_type": "error",
     "traceback": [
      "\u001b[0;31m---------------------------------------------------------------------------\u001b[0m",
      "\u001b[0;31mNameError\u001b[0m                                 Traceback (most recent call last)",
      "\u001b[0;32m<ipython-input-13-a19dd636c363>\u001b[0m in \u001b[0;36m<module>\u001b[0;34m\u001b[0m\n\u001b[0;32m----> 1\u001b[0;31m \u001b[0mnp\u001b[0m\u001b[0;34m.\u001b[0m\u001b[0msum\u001b[0m\u001b[0;34m(\u001b[0m\u001b[0mfp\u001b[0m\u001b[0;34m[\u001b[0m\u001b[0;36m0\u001b[0m\u001b[0;34m]\u001b[0m \u001b[0;34m-\u001b[0m \u001b[0mfp_2\u001b[0m\u001b[0;34m[\u001b[0m\u001b[0;36m0\u001b[0m\u001b[0;34m]\u001b[0m\u001b[0;34m)\u001b[0m\u001b[0;34m/\u001b[0m\u001b[0;34m(\u001b[0m\u001b[0mfp\u001b[0m\u001b[0;34m[\u001b[0m\u001b[0;36m0\u001b[0m\u001b[0;34m]\u001b[0m\u001b[0;34m.\u001b[0m\u001b[0mshape\u001b[0m\u001b[0;34m[\u001b[0m\u001b[0;36m1\u001b[0m\u001b[0;34m]\u001b[0m\u001b[0;34m)\u001b[0m\u001b[0;34m\u001b[0m\u001b[0;34m\u001b[0m\u001b[0m\n\u001b[0m",
      "\u001b[0;31mNameError\u001b[0m: name 'fp_2' is not defined"
     ]
    }
   ],
   "source": [
    "np.sum(fp[0] - fp_2[0])/(fp[0].shape[1])"
   ]
  },
  {
   "cell_type": "code",
   "execution_count": 14,
   "metadata": {},
   "outputs": [
    {
     "data": {
      "text/plain": [
       "5.0243534e-06"
      ]
     },
     "execution_count": 14,
     "metadata": {},
     "output_type": "execute_result"
    }
   ],
   "source": [
    "test[0][1709]"
   ]
  },
  {
   "cell_type": "code",
   "execution_count": 16,
   "metadata": {},
   "outputs": [
    {
     "data": {
      "text/plain": [
       "array([0.00397586, 0.00415141, 0.00496486, 0.00510496, 0.00534576,\n",
       "       0.005384  , 0.00543819, 0.00567776, 0.00624628, 0.00660864,\n",
       "       0.00731874, 0.00810805, 0.00825084, 0.00921426, 0.00929689,\n",
       "       0.01007634, 0.01141179, 0.01351032, 0.014783  , 0.01602425,\n",
       "       0.01618598, 0.01624606, 0.01671474, 0.02417267, 0.03832597,\n",
       "       0.04245573, 0.14063703, 0.37531203], dtype=float32)"
      ]
     },
     "execution_count": 16,
     "metadata": {},
     "output_type": "execute_result"
    }
   ],
   "source": [
    "np.sort(test)[0][-28:]"
   ]
  },
  {
   "cell_type": "code",
   "execution_count": 38,
   "metadata": {},
   "outputs": [
    {
     "data": {
      "text/plain": [
       "array([6981, 6787, 5398, 1629, 7656, 6511, 7480, 4463, 7455, 3049, 4799,\n",
       "        325, 4813, 3255, 3326, 1762, 1554, 5405, 1489, 5044, 7461,  290,\n",
       "       3053, 2498, 6562, 1234, 3048, 1292])"
      ]
     },
     "execution_count": 38,
     "metadata": {},
     "output_type": "execute_result"
    }
   ],
   "source": [
    "np.argsort(test)[0][-28:]"
   ]
  },
  {
   "cell_type": "code",
   "execution_count": 45,
   "metadata": {},
   "outputs": [
    {
     "data": {
      "text/plain": [
       "7185"
      ]
     },
     "execution_count": 45,
     "metadata": {},
     "output_type": "execute_result"
    }
   ],
   "source": [
    "len(np.argsort(test)[0])"
   ]
  },
  {
   "cell_type": "code",
   "execution_count": 311,
   "metadata": {},
   "outputs": [
    {
     "data": {
      "text/plain": [
       "[<matplotlib.lines.Line2D at 0x1cc890cd0>]"
      ]
     },
     "execution_count": 311,
     "metadata": {},
     "output_type": "execute_result"
    },
    {
     "data": {
      "image/png": "[encoded data removed]",
      "text/plain": [
       "<Figure size 432x288 with 1 Axes>"
      ]
     },
     "metadata": {
      "needs_background": "light"
     },
     "output_type": "display_data"
    }
   ],
   "source": [
    "plt.plot(np.sort(tf.nn.softmax(test[0]).numpy()))"
   ]
  },
  {
   "cell_type": "code",
   "execution_count": 179,
   "metadata": {},
   "outputs": [
    {
     "data": {
      "image/png": "[encoded data removed]",
      "text/plain": [
       "<rdkit.Chem.rdchem.Mol at 0x1afdfe120>"
      ]
     },
     "execution_count": 179,
     "metadata": {},
     "output_type": "execute_result"
    }
   ],
   "source": [
    "Chem.MolFromSmiles('COC(C=C1)=CC=C1C2=CC=C(NC3=C4CCNC3)C4=C2')"
   ]
  },
  {
   "cell_type": "code",
   "execution_count": 24,
   "metadata": {},
   "outputs": [
    {
     "data": {
      "text/plain": [
       "array([[2.35147263e-06, 2.37090126e-06, 2.37343033e-06, ...,\n",
       "        1.02664538e-01, 3.74567360e-01, 3.94566208e-01],\n",
       "       [8.31235957e-05, 8.45184841e-05, 8.52050944e-05, ...,\n",
       "        3.52688730e-02, 1.16041213e-01, 3.50733757e-01],\n",
       "       [3.85003441e-05, 3.91458125e-05, 3.91905633e-05, ...,\n",
       "        7.45484680e-02, 9.82382074e-02, 1.54129282e-01],\n",
       "       ...,\n",
       "       [3.13789587e-06, 3.15636589e-06, 3.17308036e-06, ...,\n",
       "        5.09215482e-02, 7.93787464e-02, 7.15171516e-01],\n",
       "       [1.82977001e-05, 1.83504744e-05, 1.84620803e-05, ...,\n",
       "        9.12298262e-03, 2.25195792e-02, 8.13409209e-01],\n",
       "       [4.95581980e-06, 5.01058503e-06, 5.08811218e-06, ...,\n",
       "        1.24112815e-01, 1.30896121e-01, 2.39885971e-01]], dtype=float32)"
      ]
     },
     "execution_count": 24,
     "metadata": {},
     "output_type": "execute_result"
    }
   ],
   "source": [
    "bkms_pred"
   ]
  },
  {
   "cell_type": "code",
   "execution_count": 40,
   "metadata": {},
   "outputs": [
    {
     "data": {
      "text/plain": [
       "array([[    0,     0],\n",
       "       [    0,     1],\n",
       "       [    0,     2],\n",
       "       ...,\n",
       "       [49999,   496],\n",
       "       [49999,   497],\n",
       "       [49999,   498]])"
      ]
     },
     "execution_count": 40,
     "metadata": {},
     "output_type": "execute_result"
    }
   ],
   "source": [
    "np.argwhere ( reaxys_pred < bkms_pred[:, -1][:, None])"
   ]
  },
  {
   "cell_type": "code",
   "execution_count": 14,
   "metadata": {},
   "outputs": [
    {
     "data": {
      "text/plain": [
       "<matplotlib.collections.PathCollection at 0x157424fd0>"
      ]
     },
     "execution_count": 14,
     "metadata": {},
     "output_type": "execute_result"
    },
    {
     "data": {
      "image/png": "[encoded data removed]",
      "text/plain": [
       "<Figure size 122.4x122.4 with 1 Axes>"
      ]
     },
     "metadata": {
      "needs_background": "light"
     },
     "output_type": "display_data"
    }
   ],
   "source": [
    "counts =  np.bincount(reaxys_pred.shape[1]-np.sum((reaxys_pred < bkms_pred[:, -1][:, None]), axis=1)) / reaxys_pred.shape[0]\n",
    "plt.scatter(range(len(counts)), counts)"
   ]
  },
  {
   "cell_type": "code",
   "execution_count": 66,
   "metadata": {},
   "outputs": [
    {
     "data": {
      "text/plain": [
       "<matplotlib.collections.PathCollection at 0x169d24dd0>"
      ]
     },
     "execution_count": 66,
     "metadata": {},
     "output_type": "execute_result"
    },
    {
     "data": {
      "image/png": "[encoded data removed]",
      "text/plain": [
       "<Figure size 122.4x122.4 with 1 Axes>"
      ]
     },
     "metadata": {
      "needs_background": "light"
     },
     "output_type": "display_data"
    }
   ],
   "source": [
    "counts =  np.bincount(500-np.sum((bkms_pred < reaxys_pred[:, -1][:, None]), axis=1)) / 50000\n",
    "plt.scatter(range(len(counts)), counts)"
   ]
  },
  {
   "cell_type": "code",
   "execution_count": 65,
   "metadata": {},
   "outputs": [
    {
     "data": {
      "text/plain": [
       "<matplotlib.collections.PathCollection at 0x16a515ad0>"
      ]
     },
     "execution_count": 65,
     "metadata": {},
     "output_type": "execute_result"
    },
    {
     "data": {
      "image/png": "[encoded data removed]",
      "text/plain": [
       "<Figure size 122.4x122.4 with 1 Axes>"
      ]
     },
     "metadata": {
      "needs_background": "light"
     },
     "output_type": "display_data"
    }
   ],
   "source": [
    "counts =  np.bincount(500-np.sum((reaxys_pred_biogenic < bkms_pred_biogenic[:, -1][:, None]), axis=1))/50000\n",
    "plt.scatter(range(len(counts)), counts)"
   ]
  },
  {
   "cell_type": "code",
   "execution_count": 67,
   "metadata": {},
   "outputs": [
    {
     "data": {
      "text/plain": [
       "<matplotlib.collections.PathCollection at 0x167a116d0>"
      ]
     },
     "execution_count": 67,
     "metadata": {},
     "output_type": "execute_result"
    },
    {
     "data": {
      "image/png": "[encoded data removed]",
      "text/plain": [
       "<Figure size 122.4x122.4 with 1 Axes>"
      ]
     },
     "metadata": {
      "needs_background": "light"
     },
     "output_type": "display_data"
    }
   ],
   "source": [
    "counts =  np.bincount(500-np.sum((bkms_pred_biogenic < reaxys_pred_biogenic[:, -1][:, None]), axis=1))/50000\n",
    "plt.scatter(range(len(counts)), counts)"
   ]
  },
  {
   "cell_type": "markdown",
   "metadata": {},
   "source": [
    "## Evaluate how \"confidence\" correlates with correctness"
   ]
  },
  {
   "cell_type": "code",
   "execution_count": 6,
   "metadata": {},
   "outputs": [
    {
     "name": "stdout",
     "output_type": "stream",
     "text": [
      "\u001b[34m12Apr2021_v4\u001b[m\u001b[m\r\n",
      "\u001b[34m12May2021-bkms\u001b[m\u001b[m\r\n",
      "12May2021-bkms.zip\r\n",
      "13May2021-retro.templates.combined.json.gz\r\n",
      "\u001b[34m15Jun2021_bkms_traintestval\u001b[m\u001b[m\r\n",
      "19Feb2020.retro.templates.combined.json.gz\r\n",
      "22Mar2021_retro.templates.combined.json.gz\r\n",
      "\u001b[34m24May2021_bkms\u001b[m\u001b[m\r\n",
      "24May2021_bkms.zip\r\n",
      "25May2021_retro.templates.combined.json.gz\r\n",
      "29Jun2021-retro.templates.combined.json.gz\r\n",
      "\u001b[34m29Jun2021_bkms_traintestval\u001b[m\u001b[m\r\n",
      "29Jun2021_bkms_traintestval.zip\r\n",
      "\u001b[34m29Mar2021_reaxys_enzymatic\u001b[m\u001b[m\r\n",
      "29Mar2021_reaxys_enzymatic.zip\r\n",
      "30Mar2021_bkms.zip\r\n",
      "\u001b[34m30Mar2021_reaxys_enzymatic\u001b[m\u001b[m\r\n",
      "30Mar2021_reaxys_enzymatic.zip\r\n",
      "31Mar2021_bkms_neutral.zip\r\n",
      "31Mar2021_retro.templates.combined.json.gz\r\n",
      "5Apr2021_retro.templates.combined.json.gz\r\n",
      "8Apr2021-bkms.zip\r\n",
      "8Apr2021_retro.templates.combined.json.gz\r\n",
      "\u001b[34m9Apr2021-bkms\u001b[m\u001b[m\r\n",
      "9Apr2021-bkms.zip\r\n",
      "\u001b[34m9Apr2021_v4-bkms\u001b[m\u001b[m\r\n",
      "9Apr2021_v4-bkms.zip\r\n",
      "9Apr2021_v4_retro.templates.combined.json.gz\r\n",
      "\u001b[34m9Jun2021_bkms_traintestval\u001b[m\u001b[m\r\n",
      "9Jun2021_bkms_traintestval.zip\r\n",
      "bkms.zip\r\n",
      "\u001b[34mbkms_model_all_data\u001b[m\u001b[m\r\n",
      "bkms_model_all_data.zip\r\n",
      "buyables.combined.json.gz\r\n"
     ]
    }
   ],
   "source": [
    "!ls ../for\\ GCP/"
   ]
  },
  {
   "cell_type": "code",
   "execution_count": 21,
   "metadata": {},
   "outputs": [],
   "source": [
    "bkms_model = '../for GCP/12May2021-bkms'\n",
    "test_x = np.load('../data/processed/12May2021-bkmstest.input.smiles.npy')\n",
    "test_y = np.load('../data/processed/12May2021-bkmstest.labels.classes.npy')"
   ]
  },
  {
   "cell_type": "code",
   "execution_count": 22,
   "metadata": {},
   "outputs": [
    {
     "name": "stderr",
     "output_type": "stream",
     "text": [
      "\r",
      "  4%|▍         | 422/11002 [00:20<03:34, 49.24it/s]"
     ]
    }
   ],
   "source": [
    "test_fps = [tf.constant(np.array([smiles_to_fingerprint(smi)]), dtype=tf.float32) for smi in test_x]"
   ]
  },
  {
   "cell_type": "code",
   "execution_count": 23,
   "metadata": {},
   "outputs": [
    {
     "name": "stderr",
     "output_type": "stream",
     "text": [
      "\n",
      "  0%|          | 0/2592 [00:00<?, ?it/s]\u001b[A\n",
      "  0%|          | 6/2592 [00:00<00:49, 52.10it/s]\u001b[A\n",
      "  0%|          | 12/2592 [00:00<00:49, 52.14it/s]\u001b[A\n",
      "  1%|          | 18/2592 [00:00<00:51, 50.12it/s]\u001b[A\n",
      "  1%|          | 24/2592 [00:00<00:51, 50.32it/s]\u001b[A\n",
      "  1%|          | 30/2592 [00:00<00:59, 43.30it/s]\u001b[A\n",
      "  1%|▏         | 35/2592 [00:00<01:01, 41.62it/s]\u001b[A\n",
      "  2%|▏         | 40/2592 [00:00<00:59, 42.79it/s]\u001b[A\n",
      "  2%|▏         | 46/2592 [00:01<00:55, 45.51it/s]\u001b[A\n",
      "  2%|▏         | 51/2592 [00:01<00:55, 46.19it/s]\u001b[A\n",
      "  2%|▏         | 57/2592 [00:01<00:52, 48.01it/s]\u001b[A\n",
      "  2%|▏         | 62/2592 [00:01<00:54, 46.61it/s]\u001b[A\n",
      "  3%|▎         | 67/2592 [00:01<00:55, 45.49it/s]\u001b[A\n",
      "  3%|▎         | 72/2592 [00:01<00:55, 45.01it/s]\u001b[A\n",
      "  3%|▎         | 78/2592 [00:01<00:53, 47.10it/s]\u001b[A\n",
      "  3%|▎         | 83/2592 [00:01<00:54, 46.45it/s]\u001b[A\n",
      "  3%|▎         | 88/2592 [00:01<00:53, 46.81it/s]\u001b[A\n",
      "  4%|▎         | 94/2592 [00:02<00:50, 49.44it/s]\u001b[A\n",
      "  4%|▍         | 99/2592 [00:02<00:50, 49.54it/s]\u001b[A\n",
      "  4%|▍         | 104/2592 [00:02<00:51, 48.60it/s]\u001b[A\n",
      "  4%|▍         | 109/2592 [00:02<00:51, 48.56it/s]\u001b[A\n",
      "  4%|▍         | 115/2592 [00:02<00:49, 50.22it/s]\u001b[A\n",
      "  5%|▍         | 121/2592 [00:02<00:48, 51.33it/s]\u001b[A\n",
      "  5%|▍         | 127/2592 [00:02<00:52, 47.31it/s]\u001b[A\n",
      "  5%|▌         | 132/2592 [00:02<00:53, 46.35it/s]\u001b[A\n",
      "  5%|▌         | 137/2592 [00:02<00:52, 46.37it/s]\u001b[A\n",
      "  6%|▌         | 143/2592 [00:03<00:50, 48.97it/s]\u001b[A\n",
      "  6%|▌         | 148/2592 [00:03<00:50, 48.76it/s]\u001b[A\n",
      "  6%|▌         | 154/2592 [00:03<00:48, 49.77it/s]\u001b[A\n",
      "  6%|▌         | 160/2592 [00:03<00:47, 51.61it/s]\u001b[A\n",
      "  6%|▋         | 166/2592 [00:03<00:47, 51.37it/s]\u001b[A\n",
      "  7%|▋         | 172/2592 [00:03<00:45, 52.61it/s]\u001b[A\n",
      "  7%|▋         | 178/2592 [00:03<00:45, 52.50it/s]\u001b[A\n",
      "  7%|▋         | 184/2592 [00:03<00:45, 52.44it/s]\u001b[A\n",
      "  7%|▋         | 190/2592 [00:03<00:47, 51.01it/s]\u001b[A\n",
      "  8%|▊         | 196/2592 [00:04<00:47, 50.58it/s]\u001b[A\n",
      "  8%|▊         | 202/2592 [00:04<00:48, 49.78it/s]\u001b[A\n",
      "  8%|▊         | 207/2592 [00:04<00:48, 48.82it/s]\u001b[A\n",
      "  8%|▊         | 212/2592 [00:04<00:49, 48.10it/s]\u001b[A\n",
      "  8%|▊         | 217/2592 [00:04<00:49, 47.90it/s]\u001b[A\n",
      "  9%|▊         | 222/2592 [00:04<00:50, 47.07it/s]\u001b[A\n",
      "  9%|▉         | 227/2592 [00:04<00:49, 47.86it/s]\u001b[A\n",
      "  9%|▉         | 232/2592 [00:04<00:48, 48.30it/s]\u001b[A\n",
      "  9%|▉         | 237/2592 [00:04<00:51, 46.14it/s]\u001b[A\n",
      "  9%|▉         | 242/2592 [00:05<00:52, 44.69it/s]\u001b[A\n",
      " 10%|▉         | 247/2592 [00:05<00:53, 43.44it/s]\u001b[A\n",
      " 10%|▉         | 253/2592 [00:05<00:50, 46.01it/s]\u001b[A\n",
      " 10%|▉         | 258/2592 [00:05<00:51, 45.44it/s]\u001b[A\n",
      " 10%|█         | 263/2592 [00:05<00:51, 45.34it/s]\u001b[A\n",
      " 10%|█         | 269/2592 [00:05<00:48, 48.30it/s]\u001b[A\n",
      " 11%|█         | 274/2592 [00:05<00:48, 47.76it/s]\u001b[A\n",
      " 11%|█         | 279/2592 [00:05<00:48, 47.33it/s]\u001b[A\n",
      " 11%|█         | 285/2592 [00:05<00:47, 48.98it/s]\u001b[A\n",
      " 11%|█         | 290/2592 [00:06<00:46, 49.25it/s]\u001b[A\n",
      " 11%|█▏        | 295/2592 [00:06<00:47, 48.10it/s]\u001b[A\n",
      " 12%|█▏        | 300/2592 [00:06<00:48, 47.68it/s]\u001b[A\n",
      " 12%|█▏        | 305/2592 [00:06<00:48, 46.97it/s]\u001b[A\n",
      " 12%|█▏        | 310/2592 [00:06<00:48, 47.04it/s]\u001b[A\n",
      " 12%|█▏        | 315/2592 [00:06<00:50, 45.20it/s]\u001b[A\n",
      " 12%|█▏        | 320/2592 [00:06<00:54, 41.57it/s]\u001b[A\n",
      " 13%|█▎        | 325/2592 [00:06<00:53, 42.19it/s]\u001b[A\n",
      " 13%|█▎        | 330/2592 [00:06<00:54, 41.13it/s]\u001b[A\n",
      " 13%|█▎        | 335/2592 [00:07<00:56, 39.83it/s]\u001b[A\n",
      " 13%|█▎        | 340/2592 [00:07<00:59, 38.12it/s]\u001b[A\n",
      " 13%|█▎        | 344/2592 [00:07<00:58, 38.14it/s]\u001b[A\n",
      " 13%|█▎        | 348/2592 [00:07<01:01, 36.33it/s]\u001b[A\n",
      " 14%|█▎        | 352/2592 [00:07<01:03, 35.13it/s]\u001b[A\n",
      " 14%|█▎        | 356/2592 [00:07<01:02, 36.01it/s]\u001b[A\n",
      " 14%|█▍        | 360/2592 [00:07<01:01, 36.42it/s]\u001b[A\n",
      " 14%|█▍        | 365/2592 [00:07<00:58, 38.23it/s]\u001b[A\n",
      " 14%|█▍        | 370/2592 [00:08<00:54, 41.04it/s]\u001b[A\n",
      " 14%|█▍        | 375/2592 [00:08<00:53, 41.60it/s]\u001b[A\n",
      " 15%|█▍        | 380/2592 [00:08<00:53, 41.27it/s]\u001b[A\n",
      " 15%|█▍        | 385/2592 [00:08<00:52, 41.95it/s]\u001b[A\n",
      " 15%|█▌        | 390/2592 [00:08<00:51, 42.91it/s]\u001b[A\n",
      " 15%|█▌        | 396/2592 [00:08<00:47, 46.17it/s]\u001b[A\n",
      " 15%|█▌        | 401/2592 [00:08<00:47, 46.12it/s]\u001b[A\n",
      " 16%|█▌        | 406/2592 [00:08<00:48, 44.99it/s]\u001b[A\n",
      " 16%|█▌        | 412/2592 [00:08<00:46, 47.20it/s]\u001b[A\n",
      " 16%|█▌        | 417/2592 [00:09<00:46, 47.26it/s]\u001b[A\n",
      " 16%|█▋        | 423/2592 [00:09<00:44, 49.20it/s]\u001b[A\n",
      " 17%|█▋        | 428/2592 [00:09<00:45, 47.95it/s]\u001b[A\n",
      " 17%|█▋        | 434/2592 [00:09<00:43, 49.58it/s]\u001b[A\n",
      " 17%|█▋        | 439/2592 [00:09<00:57, 37.29it/s]\u001b[A\n",
      " 17%|█▋        | 444/2592 [00:09<00:56, 37.98it/s]\u001b[A\n",
      " 17%|█▋        | 449/2592 [00:09<00:54, 39.68it/s]\u001b[A\n",
      " 18%|█▊        | 454/2592 [00:09<00:52, 41.02it/s]\u001b[A\n",
      " 18%|█▊        | 459/2592 [00:10<00:50, 42.46it/s]\u001b[A\n",
      " 18%|█▊        | 464/2592 [00:10<00:50, 41.82it/s]\u001b[A\n",
      " 18%|█▊        | 469/2592 [00:10<00:49, 42.82it/s]\u001b[A\n",
      " 18%|█▊        | 474/2592 [00:10<00:48, 43.84it/s]\u001b[A\n",
      " 19%|█▊        | 480/2592 [00:10<00:44, 47.51it/s]\u001b[A\n",
      " 19%|█▊        | 485/2592 [00:10<00:43, 47.92it/s]\u001b[A\n",
      " 19%|█▉        | 490/2592 [00:10<00:43, 48.32it/s]\u001b[A\n",
      " 19%|█▉        | 495/2592 [00:10<00:43, 48.58it/s]\u001b[A\n",
      " 19%|█▉        | 501/2592 [00:10<00:41, 49.86it/s]\u001b[A\n",
      " 20%|█▉        | 507/2592 [00:11<00:40, 51.77it/s]\u001b[A\n",
      " 20%|█▉        | 513/2592 [00:11<00:41, 50.48it/s]\u001b[A\n",
      " 20%|██        | 519/2592 [00:11<00:42, 49.33it/s]\u001b[A\n",
      " 20%|██        | 524/2592 [00:11<00:43, 47.05it/s]\u001b[A\n",
      " 20%|██        | 529/2592 [00:11<00:48, 42.77it/s]\u001b[A\n",
      " 21%|██        | 534/2592 [00:11<00:47, 43.40it/s]\u001b[A\n",
      " 21%|██        | 539/2592 [00:11<00:47, 43.56it/s]\u001b[A\n",
      " 21%|██        | 544/2592 [00:11<00:48, 42.55it/s]\u001b[A\n",
      " 21%|██        | 550/2592 [00:12<00:45, 45.07it/s]\u001b[A\n",
      " 21%|██▏       | 556/2592 [00:12<00:43, 46.96it/s]\u001b[A\n",
      " 22%|██▏       | 562/2592 [00:12<00:41, 49.16it/s]\u001b[A\n",
      " 22%|██▏       | 568/2592 [00:12<00:40, 49.48it/s]\u001b[A\n",
      " 22%|██▏       | 573/2592 [00:12<00:42, 46.98it/s]\u001b[A\n",
      " 22%|██▏       | 578/2592 [00:12<00:43, 45.89it/s]\u001b[A\n",
      " 22%|██▏       | 583/2592 [00:12<00:43, 46.45it/s]\u001b[A\n",
      " 23%|██▎       | 589/2592 [00:12<00:40, 49.60it/s]\u001b[A\n",
      " 23%|██▎       | 595/2592 [00:12<00:39, 50.90it/s]\u001b[A\n",
      " 23%|██▎       | 601/2592 [00:13<00:38, 51.07it/s]\u001b[A\n",
      " 23%|██▎       | 607/2592 [00:13<00:41, 48.40it/s]\u001b[A\n",
      " 24%|██▎       | 612/2592 [00:13<00:40, 48.66it/s]\u001b[A\n",
      " 24%|██▍       | 618/2592 [00:13<00:38, 50.87it/s]\u001b[A\n",
      " 24%|██▍       | 624/2592 [00:13<00:38, 51.61it/s]\u001b[A\n",
      " 24%|██▍       | 630/2592 [00:13<00:37, 51.83it/s]\u001b[A\n",
      " 25%|██▍       | 636/2592 [00:13<00:36, 53.05it/s]\u001b[A\n",
      " 25%|██▍       | 642/2592 [00:13<00:35, 54.33it/s]\u001b[A\n",
      " 25%|██▌       | 648/2592 [00:13<00:35, 55.39it/s]\u001b[A\n",
      " 25%|██▌       | 654/2592 [00:14<00:35, 54.18it/s]\u001b[A\n",
      " 25%|██▌       | 660/2592 [00:14<00:36, 53.05it/s]\u001b[A\n",
      " 26%|██▌       | 666/2592 [00:14<00:36, 53.06it/s]\u001b[A\n",
      " 26%|██▌       | 672/2592 [00:14<00:35, 53.33it/s]\u001b[A\n",
      " 26%|██▌       | 678/2592 [00:14<00:35, 53.62it/s]\u001b[A\n",
      " 26%|██▋       | 684/2592 [00:14<00:36, 52.72it/s]\u001b[A\n",
      " 27%|██▋       | 690/2592 [00:14<00:37, 51.04it/s]\u001b[A\n",
      " 27%|██▋       | 696/2592 [00:14<00:36, 52.20it/s]\u001b[A\n",
      " 27%|██▋       | 702/2592 [00:14<00:36, 52.22it/s]\u001b[A\n",
      " 27%|██▋       | 708/2592 [00:15<00:35, 53.78it/s]\u001b[A\n",
      " 28%|██▊       | 714/2592 [00:15<00:34, 54.04it/s]\u001b[A\n",
      " 28%|██▊       | 720/2592 [00:15<00:35, 52.88it/s]\u001b[A\n",
      " 28%|██▊       | 726/2592 [00:15<00:34, 53.89it/s]\u001b[A\n",
      " 28%|██▊       | 732/2592 [00:15<00:34, 53.75it/s]\u001b[A\n",
      " 28%|██▊       | 738/2592 [00:15<00:34, 53.16it/s]\u001b[A\n",
      " 29%|██▊       | 744/2592 [00:15<00:33, 54.67it/s]\u001b[A\n",
      " 29%|██▉       | 750/2592 [00:15<00:33, 54.37it/s]\u001b[A\n",
      " 29%|██▉       | 756/2592 [00:15<00:33, 54.22it/s]\u001b[A\n",
      " 29%|██▉       | 762/2592 [00:16<00:34, 53.76it/s]\u001b[A\n",
      " 30%|██▉       | 768/2592 [00:16<00:33, 53.83it/s]\u001b[A\n",
      " 30%|██▉       | 774/2592 [00:16<00:34, 53.46it/s]\u001b[A\n",
      " 30%|███       | 780/2592 [00:16<00:33, 53.51it/s]\u001b[A\n",
      " 30%|███       | 786/2592 [00:16<00:33, 53.49it/s]\u001b[A\n",
      " 31%|███       | 792/2592 [00:16<00:33, 53.29it/s]\u001b[A\n",
      " 31%|███       | 798/2592 [00:16<00:33, 53.00it/s]\u001b[A\n",
      " 31%|███       | 804/2592 [00:16<00:33, 53.18it/s]\u001b[A\n",
      " 31%|███▏      | 810/2592 [00:16<00:33, 53.15it/s]\u001b[A\n",
      " 31%|███▏      | 816/2592 [00:17<00:33, 52.49it/s]\u001b[A\n",
      " 32%|███▏      | 822/2592 [00:17<00:34, 51.86it/s]\u001b[A\n",
      " 32%|███▏      | 828/2592 [00:17<00:33, 52.62it/s]\u001b[A\n",
      " 32%|███▏      | 834/2592 [00:17<00:33, 52.96it/s]\u001b[A\n",
      " 32%|███▏      | 840/2592 [00:17<00:33, 52.70it/s]\u001b[A\n",
      " 33%|███▎      | 846/2592 [00:17<00:33, 51.91it/s]\u001b[A\n",
      " 33%|███▎      | 852/2592 [00:17<00:33, 52.38it/s]\u001b[A\n",
      " 33%|███▎      | 858/2592 [00:17<00:32, 53.89it/s]\u001b[A\n",
      " 33%|███▎      | 864/2592 [00:18<00:32, 53.24it/s]\u001b[A\n",
      " 34%|███▎      | 870/2592 [00:18<00:32, 52.30it/s]\u001b[A\n",
      " 34%|███▍      | 876/2592 [00:18<00:32, 52.92it/s]\u001b[A\n",
      " 34%|███▍      | 882/2592 [00:18<00:32, 53.30it/s]\u001b[A\n",
      " 34%|███▍      | 888/2592 [00:18<00:31, 53.34it/s]\u001b[A\n",
      " 34%|███▍      | 894/2592 [00:18<00:31, 53.81it/s]\u001b[A\n",
      " 35%|███▍      | 900/2592 [00:18<00:31, 53.82it/s]\u001b[A\n",
      " 35%|███▍      | 906/2592 [00:18<00:31, 54.25it/s]\u001b[A\n",
      " 35%|███▌      | 912/2592 [00:18<00:31, 53.99it/s]\u001b[A\n",
      " 35%|███▌      | 918/2592 [00:19<00:30, 54.48it/s]\u001b[A\n",
      " 36%|███▌      | 924/2592 [00:19<00:32, 50.80it/s]\u001b[A\n",
      " 36%|███▌      | 930/2592 [00:19<00:31, 52.18it/s]\u001b[A\n",
      " 36%|███▌      | 936/2592 [00:19<00:31, 52.95it/s]\u001b[A\n",
      " 36%|███▋      | 942/2592 [00:19<00:31, 53.22it/s]\u001b[A\n",
      " 37%|███▋      | 948/2592 [00:19<00:30, 53.36it/s]\u001b[A\n",
      " 37%|███▋      | 954/2592 [00:19<00:30, 53.81it/s]\u001b[A\n",
      " 37%|███▋      | 960/2592 [00:19<00:29, 54.45it/s]\u001b[A\n",
      " 37%|███▋      | 966/2592 [00:19<00:30, 53.18it/s]\u001b[A\n",
      " 38%|███▊      | 972/2592 [00:20<00:29, 54.12it/s]\u001b[A\n",
      " 38%|███▊      | 978/2592 [00:20<00:30, 52.89it/s]\u001b[A\n",
      " 38%|███▊      | 984/2592 [00:20<00:30, 53.13it/s]\u001b[A\n",
      " 38%|███▊      | 990/2592 [00:20<00:30, 53.33it/s]\u001b[A\n",
      " 38%|███▊      | 996/2592 [00:20<00:32, 49.10it/s]\u001b[A\n",
      " 39%|███▊      | 1001/2592 [00:20<00:33, 47.85it/s]\u001b[A\n",
      " 39%|███▉      | 1007/2592 [00:20<00:32, 49.51it/s]\u001b[A\n",
      " 39%|███▉      | 1013/2592 [00:20<00:31, 50.51it/s]\u001b[A\n",
      " 39%|███▉      | 1019/2592 [00:20<00:31, 50.54it/s]\u001b[A\n",
      " 40%|███▉      | 1025/2592 [00:21<00:31, 49.83it/s]\u001b[A\n",
      " 40%|███▉      | 1031/2592 [00:21<00:30, 50.82it/s]\u001b[A\n",
      " 40%|████      | 1037/2592 [00:21<00:30, 51.56it/s]\u001b[A\n",
      " 40%|████      | 1043/2592 [00:21<00:29, 51.65it/s]\u001b[A\n",
      " 40%|████      | 1049/2592 [00:21<00:31, 49.18it/s]\u001b[A\n",
      " 41%|████      | 1054/2592 [00:21<00:32, 47.84it/s]\u001b[A\n",
      " 41%|████      | 1060/2592 [00:21<00:30, 49.64it/s]\u001b[A\n",
      " 41%|████      | 1065/2592 [00:21<00:31, 48.66it/s]\u001b[A\n",
      " 41%|████▏     | 1070/2592 [00:22<00:31, 48.30it/s]\u001b[A\n",
      " 41%|████▏     | 1075/2592 [00:22<00:31, 48.48it/s]\u001b[A\n",
      " 42%|████▏     | 1081/2592 [00:22<00:30, 50.17it/s]\u001b[A\n",
      " 42%|████▏     | 1087/2592 [00:22<00:29, 50.74it/s]\u001b[A\n",
      " 42%|████▏     | 1093/2592 [00:22<00:30, 48.92it/s]\u001b[A\n",
      " 42%|████▏     | 1099/2592 [00:22<00:29, 49.98it/s]\u001b[A\n",
      " 43%|████▎     | 1105/2592 [00:22<00:29, 51.22it/s]\u001b[A\n",
      " 43%|████▎     | 1111/2592 [00:22<00:28, 52.01it/s]\u001b[A\n",
      " 43%|████▎     | 1117/2592 [00:22<00:28, 52.47it/s]\u001b[A\n",
      " 43%|████▎     | 1123/2592 [00:23<00:27, 52.72it/s]\u001b[A\n",
      " 44%|████▎     | 1129/2592 [00:23<00:27, 52.49it/s]\u001b[A\n",
      " 44%|████▍     | 1135/2592 [00:23<00:28, 51.54it/s]\u001b[A\n",
      " 44%|████▍     | 1141/2592 [00:23<00:28, 50.83it/s]\u001b[A\n",
      " 44%|████▍     | 1147/2592 [00:23<00:30, 47.54it/s]\u001b[A\n",
      " 44%|████▍     | 1153/2592 [00:23<00:29, 48.99it/s]\u001b[A\n",
      " 45%|████▍     | 1158/2592 [00:23<00:29, 48.87it/s]\u001b[A\n",
      " 45%|████▍     | 1163/2592 [00:23<00:29, 48.77it/s]\u001b[A\n",
      " 45%|████▌     | 1168/2592 [00:23<00:29, 48.24it/s]\u001b[A\n",
      " 45%|████▌     | 1174/2592 [00:24<00:28, 49.37it/s]\u001b[A\n",
      " 46%|████▌     | 1180/2592 [00:24<00:27, 51.19it/s]\u001b[A\n",
      " 46%|████▌     | 1186/2592 [00:24<00:27, 51.54it/s]\u001b[A\n",
      " 46%|████▌     | 1192/2592 [00:24<00:27, 51.10it/s]\u001b[A\n",
      " 46%|████▌     | 1198/2592 [00:24<00:28, 49.32it/s]\u001b[A\n",
      " 46%|████▋     | 1203/2592 [00:24<00:28, 48.96it/s]\u001b[A\n",
      " 47%|████▋     | 1209/2592 [00:24<00:27, 50.56it/s]\u001b[A\n",
      " 47%|████▋     | 1215/2592 [00:24<00:26, 51.46it/s]\u001b[A\n",
      " 47%|████▋     | 1221/2592 [00:25<00:26, 51.81it/s]\u001b[A\n",
      " 47%|████▋     | 1227/2592 [00:25<00:26, 51.50it/s]\u001b[A\n",
      " 48%|████▊     | 1233/2592 [00:25<00:27, 49.96it/s]\u001b[A\n",
      " 48%|████▊     | 1239/2592 [00:25<00:27, 49.96it/s]\u001b[A\n",
      " 48%|████▊     | 1245/2592 [00:25<00:26, 50.08it/s]\u001b[A\n",
      " 48%|████▊     | 1251/2592 [00:25<00:26, 50.48it/s]\u001b[A\n",
      " 48%|████▊     | 1257/2592 [00:25<00:25, 51.38it/s]\u001b[A\n",
      " 49%|████▊     | 1263/2592 [00:25<00:26, 50.76it/s]\u001b[A\n",
      " 49%|████▉     | 1269/2592 [00:25<00:25, 51.10it/s]\u001b[A\n",
      " 49%|████▉     | 1275/2592 [00:26<00:25, 52.08it/s]\u001b[A\n",
      " 49%|████▉     | 1281/2592 [00:26<00:25, 51.26it/s]\u001b[A\n",
      " 50%|████▉     | 1287/2592 [00:26<00:25, 51.58it/s]\u001b[A\n",
      " 50%|████▉     | 1293/2592 [00:26<00:25, 51.00it/s]\u001b[A\n",
      " 50%|█████     | 1299/2592 [00:26<00:25, 51.33it/s]\u001b[A\n",
      " 50%|█████     | 1305/2592 [00:26<00:24, 51.50it/s]\u001b[A\n",
      " 51%|█████     | 1311/2592 [00:26<00:25, 50.94it/s]\u001b[A\n",
      " 51%|█████     | 1317/2592 [00:26<00:25, 50.64it/s]\u001b[A\n",
      " 51%|█████     | 1323/2592 [00:27<00:25, 50.18it/s]\u001b[A\n",
      " 51%|█████▏    | 1329/2592 [00:27<00:24, 50.85it/s]\u001b[A\n",
      " 52%|█████▏    | 1335/2592 [00:27<00:24, 51.64it/s]\u001b[A\n",
      " 52%|█████▏    | 1341/2592 [00:27<00:24, 50.60it/s]\u001b[A\n",
      " 52%|█████▏    | 1347/2592 [00:27<00:24, 51.43it/s]\u001b[A\n",
      " 52%|█████▏    | 1353/2592 [00:27<00:28, 43.94it/s]\u001b[A\n",
      " 52%|█████▏    | 1358/2592 [00:27<00:27, 44.71it/s]\u001b[A\n",
      " 53%|█████▎    | 1363/2592 [00:27<00:27, 44.27it/s]\u001b[A\n",
      " 53%|█████▎    | 1369/2592 [00:27<00:25, 48.03it/s]\u001b[A\n",
      " 53%|█████▎    | 1375/2592 [00:28<00:24, 50.20it/s]\u001b[A\n",
      " 53%|█████▎    | 1381/2592 [00:28<00:24, 49.89it/s]\u001b[A\n",
      " 54%|█████▎    | 1387/2592 [00:28<00:24, 49.74it/s]\u001b[A\n",
      " 54%|█████▎    | 1393/2592 [00:28<00:23, 51.38it/s]\u001b[A\n",
      " 54%|█████▍    | 1399/2592 [00:28<00:23, 51.15it/s]\u001b[A\n",
      " 54%|█████▍    | 1405/2592 [00:28<00:23, 50.63it/s]\u001b[A\n",
      " 54%|█████▍    | 1411/2592 [00:28<00:23, 50.48it/s]\u001b[A\n",
      " 55%|█████▍    | 1417/2592 [00:28<00:23, 50.72it/s]\u001b[A\n",
      " 55%|█████▍    | 1423/2592 [00:29<00:22, 50.98it/s]\u001b[A\n",
      " 55%|█████▌    | 1429/2592 [00:29<00:22, 51.82it/s]\u001b[A\n",
      " 55%|█████▌    | 1435/2592 [00:29<00:22, 52.25it/s]\u001b[A\n",
      " 56%|█████▌    | 1441/2592 [00:29<00:21, 52.37it/s]\u001b[A\n",
      " 56%|█████▌    | 1447/2592 [00:29<00:22, 50.82it/s]\u001b[A\n",
      " 56%|█████▌    | 1453/2592 [00:29<00:22, 50.63it/s]\u001b[A\n",
      " 56%|█████▋    | 1459/2592 [00:29<00:21, 52.33it/s]\u001b[A\n",
      " 57%|█████▋    | 1465/2592 [00:29<00:21, 51.48it/s]\u001b[A\n",
      " 57%|█████▋    | 1471/2592 [00:29<00:21, 50.99it/s]\u001b[A\n",
      " 57%|█████▋    | 1477/2592 [00:30<00:21, 52.68it/s]\u001b[A\n",
      " 57%|█████▋    | 1483/2592 [00:30<00:20, 53.46it/s]\u001b[A\n",
      " 57%|█████▋    | 1489/2592 [00:30<00:20, 53.04it/s]\u001b[A\n",
      " 58%|█████▊    | 1495/2592 [00:30<00:20, 52.96it/s]\u001b[A\n",
      " 58%|█████▊    | 1501/2592 [00:30<00:20, 53.35it/s]\u001b[A\n",
      " 58%|█████▊    | 1507/2592 [00:30<00:20, 53.45it/s]\u001b[A\n",
      " 58%|█████▊    | 1513/2592 [00:30<00:20, 52.05it/s]\u001b[A\n",
      " 59%|█████▊    | 1519/2592 [00:30<00:20, 52.05it/s]\u001b[A\n",
      " 59%|█████▉    | 1525/2592 [00:30<00:20, 51.11it/s]\u001b[A\n",
      " 59%|█████▉    | 1531/2592 [00:31<00:20, 50.95it/s]\u001b[A\n",
      " 59%|█████▉    | 1537/2592 [00:31<00:20, 51.51it/s]\u001b[A\n",
      " 60%|█████▉    | 1543/2592 [00:31<00:20, 52.20it/s]\u001b[A\n",
      " 60%|█████▉    | 1549/2592 [00:31<00:19, 52.26it/s]\u001b[A\n",
      " 60%|█████▉    | 1555/2592 [00:31<00:19, 52.75it/s]\u001b[A\n",
      " 60%|██████    | 1561/2592 [00:31<00:19, 52.83it/s]\u001b[A\n",
      " 60%|██████    | 1567/2592 [00:31<00:19, 52.79it/s]\u001b[A\n",
      " 61%|██████    | 1573/2592 [00:31<00:19, 53.18it/s]\u001b[A\n",
      " 61%|██████    | 1579/2592 [00:32<00:19, 53.27it/s]\u001b[A\n",
      " 61%|██████    | 1585/2592 [00:32<00:18, 53.42it/s]\u001b[A\n",
      " 61%|██████▏   | 1591/2592 [00:32<00:18, 53.18it/s]\u001b[A\n",
      " 62%|██████▏   | 1597/2592 [00:32<00:19, 52.06it/s]\u001b[A\n",
      " 62%|██████▏   | 1603/2592 [00:32<00:19, 51.03it/s]\u001b[A\n",
      " 62%|██████▏   | 1609/2592 [00:32<00:19, 51.35it/s]\u001b[A\n",
      " 62%|██████▏   | 1615/2592 [00:32<00:19, 51.25it/s]\u001b[A\n",
      " 63%|██████▎   | 1621/2592 [00:32<00:19, 50.69it/s]\u001b[A\n",
      " 63%|██████▎   | 1627/2592 [00:32<00:18, 51.03it/s]\u001b[A\n",
      " 63%|██████▎   | 1633/2592 [00:33<00:18, 51.63it/s]\u001b[A\n",
      " 63%|██████▎   | 1639/2592 [00:33<00:18, 52.18it/s]\u001b[A\n",
      " 63%|██████▎   | 1645/2592 [00:33<00:18, 52.00it/s]\u001b[A\n",
      " 64%|██████▎   | 1651/2592 [00:33<00:18, 51.29it/s]\u001b[A\n",
      " 64%|██████▍   | 1657/2592 [00:33<00:18, 51.40it/s]\u001b[A\n",
      " 64%|██████▍   | 1663/2592 [00:33<00:18, 49.62it/s]\u001b[A\n",
      " 64%|██████▍   | 1669/2592 [00:33<00:18, 50.46it/s]\u001b[A\n",
      " 65%|██████▍   | 1675/2592 [00:33<00:18, 50.87it/s]\u001b[A\n",
      " 65%|██████▍   | 1681/2592 [00:34<00:17, 50.68it/s]\u001b[A\n",
      " 65%|██████▌   | 1687/2592 [00:34<00:18, 49.54it/s]\u001b[A\n",
      " 65%|██████▌   | 1693/2592 [00:34<00:17, 50.98it/s]\u001b[A\n",
      " 66%|██████▌   | 1699/2592 [00:34<00:17, 50.48it/s]\u001b[A\n",
      " 66%|██████▌   | 1705/2592 [00:34<00:17, 52.07it/s]\u001b[A\n",
      " 66%|██████▌   | 1711/2592 [00:34<00:16, 51.83it/s]\u001b[A\n"
     ]
    },
    {
     "name": "stderr",
     "output_type": "stream",
     "text": [
      " 66%|██████▌   | 1717/2592 [00:34<00:16, 52.79it/s]\u001b[A\n",
      " 66%|██████▋   | 1723/2592 [00:34<00:16, 54.28it/s]\u001b[A\n",
      " 67%|██████▋   | 1729/2592 [00:34<00:16, 53.67it/s]\u001b[A\n",
      " 67%|██████▋   | 1735/2592 [00:35<00:15, 53.93it/s]\u001b[A\n",
      " 67%|██████▋   | 1741/2592 [00:35<00:15, 54.41it/s]\u001b[A\n",
      " 67%|██████▋   | 1747/2592 [00:35<00:15, 54.42it/s]\u001b[A\n",
      " 68%|██████▊   | 1753/2592 [00:35<00:15, 55.17it/s]\u001b[A\n",
      " 68%|██████▊   | 1759/2592 [00:35<00:15, 54.22it/s]\u001b[A\n",
      " 68%|██████▊   | 1765/2592 [00:35<00:15, 54.56it/s]\u001b[A\n",
      " 68%|██████▊   | 1771/2592 [00:35<00:14, 55.59it/s]\u001b[A\n",
      " 69%|██████▊   | 1777/2592 [00:35<00:14, 55.52it/s]\u001b[A\n",
      " 69%|██████▉   | 1783/2592 [00:35<00:14, 55.64it/s]\u001b[A\n",
      " 69%|██████▉   | 1789/2592 [00:36<00:14, 55.31it/s]\u001b[A\n",
      " 69%|██████▉   | 1795/2592 [00:36<00:14, 55.54it/s]\u001b[A\n",
      " 69%|██████▉   | 1801/2592 [00:36<00:14, 55.66it/s]\u001b[A\n",
      " 70%|██████▉   | 1807/2592 [00:36<00:14, 55.64it/s]\u001b[A\n",
      " 70%|██████▉   | 1813/2592 [00:36<00:14, 55.03it/s]\u001b[A\n",
      " 70%|███████   | 1819/2592 [00:36<00:13, 55.66it/s]\u001b[A\n",
      " 70%|███████   | 1825/2592 [00:36<00:13, 55.23it/s]\u001b[A\n",
      " 71%|███████   | 1831/2592 [00:36<00:13, 55.25it/s]\u001b[A\n",
      " 71%|███████   | 1837/2592 [00:36<00:13, 55.03it/s]\u001b[A\n",
      " 71%|███████   | 1843/2592 [00:36<00:13, 55.10it/s]\u001b[A\n",
      " 71%|███████▏  | 1849/2592 [00:37<00:13, 55.11it/s]\u001b[A\n",
      " 72%|███████▏  | 1855/2592 [00:37<00:13, 55.74it/s]\u001b[A\n",
      " 72%|███████▏  | 1861/2592 [00:37<00:13, 54.83it/s]\u001b[A\n",
      " 72%|███████▏  | 1867/2592 [00:37<00:13, 55.43it/s]\u001b[A\n",
      " 72%|███████▏  | 1873/2592 [00:37<00:13, 55.29it/s]\u001b[A\n",
      " 72%|███████▏  | 1879/2592 [00:37<00:12, 55.43it/s]\u001b[A\n",
      " 73%|███████▎  | 1885/2592 [00:37<00:12, 55.64it/s]\u001b[A\n",
      " 73%|███████▎  | 1891/2592 [00:37<00:12, 55.61it/s]\u001b[A\n",
      " 73%|███████▎  | 1897/2592 [00:37<00:12, 55.72it/s]\u001b[A\n",
      " 73%|███████▎  | 1903/2592 [00:38<00:12, 55.14it/s]\u001b[A\n",
      " 74%|███████▎  | 1909/2592 [00:38<00:12, 54.83it/s]\u001b[A\n",
      " 74%|███████▍  | 1915/2592 [00:38<00:12, 54.85it/s]\u001b[A\n",
      " 74%|███████▍  | 1921/2592 [00:38<00:12, 54.21it/s]\u001b[A\n",
      " 74%|███████▍  | 1927/2592 [00:38<00:12, 53.05it/s]\u001b[A\n",
      " 75%|███████▍  | 1933/2592 [00:38<00:12, 54.03it/s]\u001b[A\n",
      " 75%|███████▍  | 1939/2592 [00:38<00:11, 55.23it/s]\u001b[A\n",
      " 75%|███████▌  | 1945/2592 [00:38<00:11, 55.34it/s]\u001b[A\n",
      " 75%|███████▌  | 1951/2592 [00:38<00:11, 55.11it/s]\u001b[A\n",
      " 76%|███████▌  | 1957/2592 [00:39<00:11, 56.26it/s]\u001b[A\n",
      " 76%|███████▌  | 1963/2592 [00:39<00:11, 55.94it/s]\u001b[A\n",
      " 76%|███████▌  | 1969/2592 [00:39<00:11, 55.81it/s]\u001b[A\n",
      " 76%|███████▌  | 1975/2592 [00:39<00:11, 55.91it/s]\u001b[A\n",
      " 76%|███████▋  | 1981/2592 [00:39<00:11, 55.00it/s]\u001b[A\n",
      " 77%|███████▋  | 1987/2592 [00:39<00:11, 54.70it/s]\u001b[A\n",
      " 77%|███████▋  | 1993/2592 [00:39<00:10, 54.90it/s]\u001b[A\n",
      " 77%|███████▋  | 1999/2592 [00:39<00:10, 55.03it/s]\u001b[A\n",
      " 77%|███████▋  | 2005/2592 [00:39<00:10, 55.17it/s]\u001b[A\n",
      " 78%|███████▊  | 2011/2592 [00:40<00:10, 55.23it/s]\u001b[A\n",
      " 78%|███████▊  | 2017/2592 [00:40<00:10, 55.60it/s]\u001b[A\n",
      " 78%|███████▊  | 2023/2592 [00:40<00:10, 54.99it/s]\u001b[A\n",
      " 78%|███████▊  | 2029/2592 [00:40<00:10, 55.32it/s]\u001b[A\n",
      " 79%|███████▊  | 2035/2592 [00:40<00:10, 55.23it/s]\u001b[A\n",
      " 79%|███████▊  | 2041/2592 [00:40<00:10, 55.07it/s]\u001b[A\n",
      " 79%|███████▉  | 2047/2592 [00:40<00:09, 55.45it/s]\u001b[A\n",
      " 79%|███████▉  | 2053/2592 [00:40<00:09, 55.74it/s]\u001b[A\n",
      " 79%|███████▉  | 2059/2592 [00:40<00:09, 55.19it/s]\u001b[A\n",
      " 80%|███████▉  | 2065/2592 [00:41<00:09, 54.80it/s]\u001b[A\n",
      " 80%|███████▉  | 2071/2592 [00:41<00:09, 53.87it/s]\u001b[A\n",
      " 80%|████████  | 2077/2592 [00:41<00:09, 54.03it/s]\u001b[A\n",
      " 80%|████████  | 2083/2592 [00:41<00:09, 54.54it/s]\u001b[A\n",
      " 81%|████████  | 2089/2592 [00:41<00:09, 54.78it/s]\u001b[A\n",
      " 81%|████████  | 2095/2592 [00:41<00:09, 54.75it/s]\u001b[A\n",
      " 81%|████████  | 2101/2592 [00:41<00:08, 55.13it/s]\u001b[A\n",
      " 81%|████████▏ | 2107/2592 [00:41<00:08, 55.42it/s]\u001b[A\n",
      " 82%|████████▏ | 2113/2592 [00:41<00:08, 56.33it/s]\u001b[A\n",
      " 82%|████████▏ | 2119/2592 [00:41<00:08, 56.10it/s]\u001b[A\n",
      " 82%|████████▏ | 2125/2592 [00:42<00:08, 56.24it/s]\u001b[A\n",
      " 82%|████████▏ | 2131/2592 [00:42<00:08, 56.13it/s]\u001b[A\n",
      " 82%|████████▏ | 2137/2592 [00:42<00:08, 55.79it/s]\u001b[A\n",
      " 83%|████████▎ | 2143/2592 [00:42<00:08, 55.33it/s]\u001b[A\n",
      " 83%|████████▎ | 2149/2592 [00:42<00:08, 54.52it/s]\u001b[A\n",
      " 83%|████████▎ | 2155/2592 [00:42<00:08, 53.59it/s]\u001b[A\n",
      " 83%|████████▎ | 2161/2592 [00:42<00:07, 54.06it/s]\u001b[A\n",
      " 84%|████████▎ | 2167/2592 [00:42<00:08, 51.67it/s]\u001b[A\n",
      " 84%|████████▍ | 2173/2592 [00:43<00:08, 49.87it/s]\u001b[A\n",
      " 84%|████████▍ | 2179/2592 [00:43<00:08, 47.88it/s]\u001b[A\n",
      " 84%|████████▍ | 2184/2592 [00:43<00:09, 44.96it/s]\u001b[A\n",
      " 84%|████████▍ | 2189/2592 [00:43<00:08, 45.69it/s]\u001b[A\n",
      " 85%|████████▍ | 2194/2592 [00:43<00:08, 46.60it/s]\u001b[A\n",
      " 85%|████████▍ | 2199/2592 [00:43<00:09, 43.37it/s]\u001b[A\n",
      " 85%|████████▌ | 2204/2592 [00:43<00:09, 43.01it/s]\u001b[A\n",
      " 85%|████████▌ | 2209/2592 [00:43<00:08, 44.39it/s]\u001b[A\n",
      " 85%|████████▌ | 2215/2592 [00:43<00:07, 47.35it/s]\u001b[A\n",
      " 86%|████████▌ | 2220/2592 [00:44<00:07, 47.42it/s]\u001b[A\n",
      " 86%|████████▌ | 2226/2592 [00:44<00:07, 48.75it/s]\u001b[A\n",
      " 86%|████████▌ | 2232/2592 [00:44<00:07, 49.45it/s]\u001b[A\n",
      " 86%|████████▋ | 2238/2592 [00:44<00:06, 51.64it/s]\u001b[A\n",
      " 87%|████████▋ | 2244/2592 [00:44<00:06, 50.36it/s]\u001b[A\n",
      " 87%|████████▋ | 2250/2592 [00:44<00:07, 48.33it/s]\u001b[A\n",
      " 87%|████████▋ | 2256/2592 [00:44<00:06, 49.60it/s]\u001b[A\n",
      " 87%|████████▋ | 2262/2592 [00:44<00:06, 50.12it/s]\u001b[A\n",
      " 88%|████████▊ | 2268/2592 [00:45<00:06, 48.81it/s]\u001b[A\n",
      " 88%|████████▊ | 2273/2592 [00:45<00:06, 48.83it/s]\u001b[A\n",
      " 88%|████████▊ | 2279/2592 [00:45<00:06, 50.30it/s]\u001b[A\n",
      " 88%|████████▊ | 2285/2592 [00:45<00:06, 49.07it/s]\u001b[A\n",
      " 88%|████████▊ | 2290/2592 [00:45<00:06, 48.71it/s]\u001b[A\n",
      " 89%|████████▊ | 2295/2592 [00:45<00:06, 48.95it/s]\u001b[A\n",
      " 89%|████████▉ | 2301/2592 [00:45<00:05, 50.28it/s]\u001b[A\n",
      " 89%|████████▉ | 2307/2592 [00:45<00:05, 50.33it/s]\u001b[A\n",
      " 89%|████████▉ | 2313/2592 [00:45<00:05, 52.44it/s]\u001b[A\n",
      " 89%|████████▉ | 2319/2592 [00:46<00:05, 53.45it/s]\u001b[A\n",
      " 90%|████████▉ | 2325/2592 [00:46<00:05, 52.28it/s]\u001b[A\n",
      " 90%|████████▉ | 2331/2592 [00:46<00:04, 52.39it/s]\u001b[A\n",
      " 90%|█████████ | 2337/2592 [00:46<00:04, 52.17it/s]\u001b[A\n",
      " 90%|█████████ | 2343/2592 [00:46<00:05, 49.41it/s]\u001b[A\n",
      " 91%|█████████ | 2349/2592 [00:46<00:04, 49.59it/s]\u001b[A\n",
      " 91%|█████████ | 2355/2592 [00:46<00:04, 50.40it/s]\u001b[A\n",
      " 91%|█████████ | 2361/2592 [00:46<00:04, 49.62it/s]\u001b[A\n",
      " 91%|█████████▏| 2366/2592 [00:46<00:04, 48.45it/s]\u001b[A\n",
      " 91%|█████████▏| 2371/2592 [00:47<00:04, 48.71it/s]\u001b[A\n",
      " 92%|█████████▏| 2377/2592 [00:47<00:04, 50.39it/s]\u001b[A\n",
      " 92%|█████████▏| 2383/2592 [00:47<00:04, 50.53it/s]\u001b[A\n",
      " 92%|█████████▏| 2389/2592 [00:47<00:04, 50.33it/s]\u001b[A\n",
      " 92%|█████████▏| 2395/2592 [00:47<00:03, 49.52it/s]\u001b[A\n",
      " 93%|█████████▎| 2401/2592 [00:47<00:03, 50.11it/s]\u001b[A\n",
      " 93%|█████████▎| 2407/2592 [00:47<00:03, 48.71it/s]\u001b[A\n",
      " 93%|█████████▎| 2412/2592 [00:47<00:03, 48.18it/s]\u001b[A\n",
      " 93%|█████████▎| 2418/2592 [00:48<00:03, 49.59it/s]\u001b[A\n",
      " 93%|█████████▎| 2423/2592 [00:48<00:03, 49.37it/s]\u001b[A\n",
      " 94%|█████████▎| 2428/2592 [00:48<00:03, 48.07it/s]\u001b[A\n",
      " 94%|█████████▍| 2433/2592 [00:48<00:03, 48.18it/s]\u001b[A\n",
      " 94%|█████████▍| 2438/2592 [00:48<00:03, 46.18it/s]\u001b[A\n",
      " 94%|█████████▍| 2444/2592 [00:48<00:03, 48.43it/s]\u001b[A\n",
      " 94%|█████████▍| 2449/2592 [00:48<00:02, 48.06it/s]\u001b[A\n",
      " 95%|█████████▍| 2454/2592 [00:48<00:02, 47.93it/s]\u001b[A\n",
      " 95%|█████████▍| 2459/2592 [00:48<00:02, 47.84it/s]\u001b[A\n",
      " 95%|█████████▌| 2464/2592 [00:48<00:02, 47.10it/s]\u001b[A\n",
      " 95%|█████████▌| 2469/2592 [00:49<00:02, 46.63it/s]\u001b[A\n",
      " 95%|█████████▌| 2474/2592 [00:49<00:02, 46.89it/s]\u001b[A\n",
      " 96%|█████████▌| 2479/2592 [00:49<00:02, 46.26it/s]\u001b[A\n",
      " 96%|█████████▌| 2484/2592 [00:49<00:02, 43.74it/s]\u001b[A\n",
      " 96%|█████████▌| 2489/2592 [00:49<00:02, 44.79it/s]\u001b[A\n",
      " 96%|█████████▌| 2494/2592 [00:49<00:02, 44.59it/s]\u001b[A\n",
      " 96%|█████████▋| 2499/2592 [00:49<00:02, 42.76it/s]\u001b[A\n",
      " 97%|█████████▋| 2504/2592 [00:49<00:02, 42.71it/s]\u001b[A\n",
      " 97%|█████████▋| 2510/2592 [00:50<00:01, 45.32it/s]\u001b[A\n",
      " 97%|█████████▋| 2515/2592 [00:50<00:01, 45.64it/s]\u001b[A\n",
      " 97%|█████████▋| 2520/2592 [00:50<00:01, 45.35it/s]\u001b[A\n",
      " 97%|█████████▋| 2525/2592 [00:50<00:01, 45.85it/s]\u001b[A\n",
      " 98%|█████████▊| 2530/2592 [00:50<00:01, 45.31it/s]\u001b[A\n",
      " 98%|█████████▊| 2536/2592 [00:50<00:01, 46.57it/s]\u001b[A\n",
      " 98%|█████████▊| 2541/2592 [00:50<00:01, 43.62it/s]\u001b[A\n",
      " 98%|█████████▊| 2546/2592 [00:50<00:01, 44.21it/s]\u001b[A\n",
      " 98%|█████████▊| 2551/2592 [00:50<00:00, 44.46it/s]\u001b[A\n",
      " 99%|█████████▊| 2557/2592 [00:51<00:00, 46.62it/s]\u001b[A\n",
      " 99%|█████████▉| 2563/2592 [00:51<00:00, 48.62it/s]\u001b[A\n",
      " 99%|█████████▉| 2568/2592 [00:51<00:00, 48.63it/s]\u001b[A\n",
      " 99%|█████████▉| 2573/2592 [00:51<00:00, 48.86it/s]\u001b[A\n",
      " 99%|█████████▉| 2578/2592 [00:51<00:00, 48.84it/s]\u001b[A\n",
      "100%|█████████▉| 2584/2592 [00:51<00:00, 49.91it/s]\u001b[A\n",
      "100%|██████████| 2592/2592 [00:51<00:00, 50.08it/s]\u001b[A\n"
     ]
    }
   ],
   "source": [
    "pred_scores = analyze_model(bkms_model, test_fps)"
   ]
  },
  {
   "cell_type": "code",
   "execution_count": 45,
   "metadata": {},
   "outputs": [],
   "source": [
    "argsorted_pred_scores = np.argsort(pred_scores, axis=1)\n",
    "top_score = np.sort(pred_scores, axis=1)"
   ]
  },
  {
   "cell_type": "code",
   "execution_count": 41,
   "metadata": {},
   "outputs": [],
   "source": [
    "correct = [y_pred==y for y_pred,y in zip(argsorted_pred_scores[:,-1], test_y)] "
   ]
  },
  {
   "cell_type": "code",
   "execution_count": 42,
   "metadata": {},
   "outputs": [
    {
     "data": {
      "text/plain": [
       "0.1878858024691358"
      ]
     },
     "execution_count": 42,
     "metadata": {},
     "output_type": "execute_result"
    }
   ],
   "source": [
    "sum(correct)/len(correct)"
   ]
  },
  {
   "cell_type": "code",
   "execution_count": 77,
   "metadata": {},
   "outputs": [
    {
     "data": {
      "text/plain": [
       "<matplotlib.legend.Legend at 0x15a468790>"
      ]
     },
     "execution_count": 77,
     "metadata": {},
     "output_type": "execute_result"
    },
    {
     "data": {
      "image/png": "[encoded data removed]",
      "text/plain": [
       "<Figure size 432x288 with 1 Axes>"
      ]
     },
     "metadata": {
      "needs_background": "light"
     },
     "output_type": "display_data"
    }
   ],
   "source": [
    "plt.hist(top_score[[not x for x in correct], -1], label = 'incorrect', alpha = 0.5, density=True)\n",
    "plt.hist(top_score[correct, -1], label = 'correct', alpha = 0.5, density=True)\n",
    "plt.legend()"
   ]
  },
  {
   "cell_type": "code",
   "execution_count": 86,
   "metadata": {},
   "outputs": [
    {
     "data": {
      "text/plain": [
       "Text(0, 0.5, 'Top-1 prediction score')"
      ]
     },
     "execution_count": 86,
     "metadata": {},
     "output_type": "execute_result"
    },
    {
     "data": {
      "image/png": "[encoded data removed]",
      "text/plain": [
       "<Figure size 432x288 with 1 Axes>"
      ]
     },
     "metadata": {
      "needs_background": "light"
     },
     "output_type": "display_data"
    }
   ],
   "source": [
    "b = sns.boxplot(correct, top_score[:,-1])\n",
    "b.set_xlabel('Top-1 template predicted correctly')\n",
    "b.set_ylabel('Top-1 prediction score')"
   ]
  },
  {
   "cell_type": "code",
   "execution_count": 62,
   "metadata": {},
   "outputs": [
    {
     "data": {
      "text/plain": [
       "Ttest_indResult(statistic=13.817704816520573, pvalue=5.914837911745464e-42)"
      ]
     },
     "execution_count": 62,
     "metadata": {},
     "output_type": "execute_result"
    }
   ],
   "source": [
    "scipy.stats.ttest_ind(top_score[correct, -1], top_score[[not x for x in correct], -1])"
   ]
  },
  {
   "cell_type": "code",
   "execution_count": 79,
   "metadata": {},
   "outputs": [
    {
     "data": {
      "text/plain": [
       "MannwhitneyuResult(statistic=325452.5, pvalue=1.503991866228796e-36)"
      ]
     },
     "execution_count": 79,
     "metadata": {},
     "output_type": "execute_result"
    }
   ],
   "source": [
    "scipy.stats.mannwhitneyu(top_score[correct, -1], top_score[[not x for x in correct], -1])"
   ]
  },
  {
   "cell_type": "code",
   "execution_count": 51,
   "metadata": {},
   "outputs": [
    {
     "data": {
      "text/plain": [
       "0.46533322"
      ]
     },
     "execution_count": 51,
     "metadata": {},
     "output_type": "execute_result"
    }
   ],
   "source": [
    "np.mean(top_score[correct, -1])"
   ]
  },
  {
   "cell_type": "code",
   "execution_count": 57,
   "metadata": {},
   "outputs": [
    {
     "data": {
      "text/plain": [
       "0.32673144"
      ]
     },
     "execution_count": 57,
     "metadata": {},
     "output_type": "execute_result"
    }
   ],
   "source": [
    "np.mean(top_score[[not x for x in correct], -1])"
   ]
  },
  {
   "cell_type": "code",
   "execution_count": 88,
   "metadata": {},
   "outputs": [
    {
     "data": {
      "text/plain": [
       "(49586, 500)"
      ]
     },
     "execution_count": 88,
     "metadata": {},
     "output_type": "execute_result"
    }
   ],
   "source": [
    "bkms_pred_biogenic.shape"
   ]
  },
  {
   "cell_type": "code",
   "execution_count": null,
   "metadata": {},
   "outputs": [],
   "source": []
  }
 ],
 "metadata": {
  "kernelspec": {
   "display_name": "Python rdkit",
   "language": "python",
   "name": "my-rdkit-env"
  },
  "language_info": {
   "codemirror_mode": {
    "name": "ipython",
    "version": 3
   },
   "file_extension": ".py",
   "mimetype": "text/x-python",
   "name": "python",
   "nbconvert_exporter": "python",
   "pygments_lexer": "ipython3",
   "version": "3.7.9"
  }
 },
 "nbformat": 4,
 "nbformat_minor": 4
}

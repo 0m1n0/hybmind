{
 "cells": [
  {
   "cell_type": "code",
   "execution_count": 1,
   "metadata": {},
   "outputs": [
    {
     "name": "stderr",
     "output_type": "stream",
     "text": [
      "In /opt/anaconda3/envs/my-rdkit-env/lib/python3.7/site-packages/matplotlib/mpl-data/stylelib/_classic_test.mplstyle: \n",
      "The text.latex.preview rcparam was deprecated in Matplotlib 3.3 and will be removed two minor releases later.\n",
      "In /opt/anaconda3/envs/my-rdkit-env/lib/python3.7/site-packages/matplotlib/mpl-data/stylelib/_classic_test.mplstyle: \n",
      "The mathtext.fallback_to_cm rcparam was deprecated in Matplotlib 3.3 and will be removed two minor releases later.\n",
      "In /opt/anaconda3/envs/my-rdkit-env/lib/python3.7/site-packages/matplotlib/mpl-data/stylelib/_classic_test.mplstyle: Support for setting the 'mathtext.fallback_to_cm' rcParam is deprecated since 3.3 and will be removed two minor releases later; use 'mathtext.fallback : 'cm' instead.\n",
      "In /opt/anaconda3/envs/my-rdkit-env/lib/python3.7/site-packages/matplotlib/mpl-data/stylelib/_classic_test.mplstyle: \n",
      "The validate_bool_maybe_none function was deprecated in Matplotlib 3.3 and will be removed two minor releases later.\n",
      "In /opt/anaconda3/envs/my-rdkit-env/lib/python3.7/site-packages/matplotlib/mpl-data/stylelib/_classic_test.mplstyle: \n",
      "The savefig.jpeg_quality rcparam was deprecated in Matplotlib 3.3 and will be removed two minor releases later.\n",
      "In /opt/anaconda3/envs/my-rdkit-env/lib/python3.7/site-packages/matplotlib/mpl-data/stylelib/_classic_test.mplstyle: \n",
      "The keymap.all_axes rcparam was deprecated in Matplotlib 3.3 and will be removed two minor releases later.\n",
      "In /opt/anaconda3/envs/my-rdkit-env/lib/python3.7/site-packages/matplotlib/mpl-data/stylelib/_classic_test.mplstyle: \n",
      "The animation.avconv_path rcparam was deprecated in Matplotlib 3.3 and will be removed two minor releases later.\n",
      "In /opt/anaconda3/envs/my-rdkit-env/lib/python3.7/site-packages/matplotlib/mpl-data/stylelib/_classic_test.mplstyle: \n",
      "The animation.avconv_args rcparam was deprecated in Matplotlib 3.3 and will be removed two minor releases later.\n"
     ]
    }
   ],
   "source": [
    "import tensorflow as tf\n",
    "import numpy as np\n",
    "import os\n",
    "from temprel.rdkit import smiles_to_fingerprint\n",
    "import matplotlib.pyplot as plt\n",
    "import pandas as pd\n",
    "from rdkit import Chem\n",
    "from tqdm import tqdm\n",
    "import matplotlib as mpl\n",
    "mpl.rcParams['pdf.fonttype'] = 42\n",
    "import seaborn as sns\n",
    "import scipy\n",
    "import hashlib\n",
    "from tqdm import tqdm\n",
    "%matplotlib inline\n"
   ]
  },
  {
   "cell_type": "code",
   "execution_count": 4,
   "metadata": {},
   "outputs": [],
   "source": [
    "# Set figure defaults:\n",
    "\n",
    "figure_dir = '../../figures/'\n",
    "plt.rcParams['figure.figsize'] = (1.7,1.7)\n",
    "plt.rcParams['font.sans-serif'] = 'Arial'\n",
    "plt.rcParams['font.size'] = 6\n",
    "mpl.rcParams['axes.spines.right'] = False\n",
    "mpl.rcParams['axes.spines.top'] = False\n",
    "plt.rcParams['axes.facecolor']='None'\n",
    "plt.rcParams['savefig.facecolor']='None'"
   ]
  },
  {
   "cell_type": "code",
   "execution_count": 5,
   "metadata": {},
   "outputs": [],
   "source": [
    "#requires downloading the reaxys-trained model from ASKCOS at: https://github.com/ASKCOS/askcos-data/tree/main/models/template_prioritization\n",
    "# and the BKMS trained model at: https://github.com/itai-levin/bkms-data\n",
    "reaxys_path = '../../../askcos-data/models/template_prioritization/reaxys/1/'\n",
    "bkms_path = '../../../bkms-data/models/bkms/1'"
   ]
  },
  {
   "cell_type": "code",
   "execution_count": 6,
   "metadata": {},
   "outputs": [],
   "source": [
    "plt.rcParams['font.family'] = 'sans-serif'\n",
    "plt.rcParams['font.sans-serif'] = ['Arial']\n",
    "\n",
    "def plot_comp (arr_1, arr_2, name_1, name_2, color = 'black', axs = None, **kwargs):\n",
    "    comp = np.flip(np.sum(arr_1 > arr_2, axis = 0)) / arr_1.shape[0]\n",
    "    if axs:\n",
    "        axs.plot(np.arange(len(comp))+1, comp, color = color, **kwargs)\n",
    "        axs.set_xlabel('Template rank')\n",
    "        axs.set_xticks = (range(1,11))\n",
    "        axs.set_ylim([0,1])\n",
    "        axs.set_xlim([0.8,len(comp)+0.2])\n",
    "        \n",
    "    else:\n",
    "        plt.scatter(np.arange(len(comp))+1, comp, color = color, **kwargs)\n",
    "        plt.xlabel('Template rank')\n",
    "        plt.ylabel('Fraction of molecules')\n",
    "        plt.set_xticks = (range(1,11))\n",
    "        \n",
    "        \n",
    "def plot_comp_2 (arr_1, arr_2, name_1, name_2, color = 'black', axs = None, min_len = 10, cumulative=False, **kwargs):\n",
    "    \"\"\"\n",
    "    Plot fraction of molecules vs. number of entries from arr_1 that would be considered before arr_2\n",
    "    \"\"\"\n",
    "    comp =  np.bincount(arr_1.shape[1]-np.sum((arr_1 < arr_2[:, -1][:, None]), axis=1)) / arr_1.shape[0]\n",
    "    \n",
    "    if cumulative:\n",
    "        comp = [sum(comp[:i+1]) for i in range(len(comp))]\n",
    "    if min_len and len(comp) < min_len:\n",
    "        pad = np.zeros(min_len-len(comp))\n",
    "        comp = np.concatenate([comp, pad])\n",
    "    print (comp)\n",
    "    if axs:\n",
    "        axs.plot(np.arange(len(comp))+1, comp, color = color, **kwargs)\n",
    "        axs.set_xlabel('Template rank')\n",
    "        axs.set_xticks = (range(int(np.max(comp))))\n",
    "        axs.set_ylim([0,1])\n",
    "        axs.set_xlim([0.8,len(comp)+0.2])\n",
    "        \n",
    "    else:\n",
    "        plt.scatter(np.arange(len(comp))+1, comp, color = color, **kwargs)\n",
    "        plt.xlabel('Template rank')\n",
    "        plt.ylabel('Fraction of molecules')\n",
    "\n",
    "def plot_comp_3 (arr_1, arr_2, name_1, name_2, color = 'black', axs = None, min_len = 10, **kwargs):\n",
    "    \"\"\"\n",
    "    Plot fraction of molecules vs. number of entries for which both \n",
    "    \"\"\"\n",
    "    comp_1 =  arr_1.shape[1]-np.sum((arr_1 < arr_2[:, -1][:, None]), axis=1)\n",
    "    comp_2 =  arr_2.shape[1]-np.sum((arr_2 < arr_1[:, -1][:, None]), axis=1)\n",
    "    comp = np.bincount(np.max(np.stack([comp_1, comp_2]), axis=0)) / arr_1.shape[0]\n",
    "    comp = [sum(comp[:i+1]) for i in range(len(comp))]\n",
    "    print (comp)\n",
    "    if axs:\n",
    "        axs.bar(np.arange(len(comp))+1, comp, color = color, **kwargs)\n",
    "        axs.set_xlabel('Template rank')\n",
    "        axs.set_xticks = (range(int(np.max(comp))))\n",
    "        axs.set_ylim([0,1])\n",
    "        axs.set_xlim([0.8,len(comp)+0.2])\n",
    "        \n",
    "    else:\n",
    "        plt.bar(np.arange(len(comp))+1, comp, color = color, **kwargs)\n",
    "        plt.xlabel('Template rank')\n",
    "        plt.ylabel('Fraction of molecules')        \n",
    "        \n",
    "def standardize_smiles_list (smi_ls):\n",
    "    std_ls = []\n",
    "    for smi in smi_ls:\n",
    "        mol = Chem.MolFromSmiles(smi)\n",
    "        for atm in mol.GetAtoms():\n",
    "            atm.SetAtomMapNum(0)\n",
    "        std_ls.append(Chem.MolToSmiles(mol))\n",
    "    return std_ls\n",
    "\n",
    "def analyze_model(model_path, fps, trunc=None):\n",
    "    \"\"\"\n",
    "    Note: currently if trunc is set, return the top [trunc] scores for each molecules as an np.array\n",
    "    Else, reutrns a tf.Tensor of the predictions for all the molecules\n",
    "    \"\"\"\n",
    "    model = tf.keras.models.load_model(model_path)\n",
    "    infer = model.signatures['serving_default']\n",
    "    one_pred = infer(tf.constant(fps[0]))\n",
    "    key = list(one_pred.keys())[0]\n",
    "    if trunc == None:\n",
    "        pred = [np.array(tf.nn.softmax(infer(fp)[key])[0]) for fp in tqdm(fps)]\n",
    "        return pred \n",
    "    else:\n",
    "        print ('Truncating results')\n",
    "        pred = [np.sort(np.array(tf.nn.softmax(infer(fp)[key])[0]))[-trunc:] for fp in fps]\n",
    "        \n",
    "        return np.array(pred)\n",
    "\n",
    "def plot_ind_distribution (pred_arr, ind, title, save_path,  **kwargs):\n",
    "\n",
    "    plt.hist(pred_arr[:, ind], **kwargs)\n",
    "    plt.xlim([0,1])\n",
    "    plt.title(title)\n",
    "    plt.tight_layout(pad=0.2)\n",
    "    plt.savefig(save_path, dpi=300)\n",
    "    plt.show()\n",
    "    \n",
    "def plot_ind_distributions (pred_arrs, ind, save_path, colors, labels, axs=None, ylim=2000, **kwargs):\n",
    "    if axs:\n",
    "        for i, pred_arr in enumerate(pred_arrs):\n",
    "            axs.hist(pred_arr[:, ind], color = colors[i], label = labels[i], **kwargs)\n",
    "        axs.set_xlim([0,1])\n",
    "        plt.legend(title = 'Template prioritizer')\n",
    "        axs.set_yticks([])\n",
    "        axs.set_xticks([0,0.5,1])\n",
    "    else:\n",
    "        for i, pred_arr in enumerate(pred_arrs):\n",
    "            plt.hist(pred_arr[:, ind], color = colors[i], label = labels[i], **kwargs)\n",
    "        plt.xlim([0,1])\n",
    "        plt.legend(title = 'Template prioritizer')\n",
    "        plt.ylim((0,ylim))\n",
    "        plt.xlabel('')\n",
    "        plt.ylabel('Number of molecules')\n",
    "        plt.xlabel('Top output score')\n",
    "        plt.tight_layout(pad=0.2)\n",
    "        if save_path:\n",
    "            plt.savefig(save_path, dpi=300)\n",
    "        plt.show()\n",
    "    \n",
    "def plot_scores (pred_arrs, pred_labels, colors, save_path, markers=None, axs = None, means = True, **kwargs):\n",
    "    if means:\n",
    "        means = [np.mean(arr, axis = 0) for arr in pred_arrs]\n",
    "    else:\n",
    "        means = [np.median(arr, axis = 0) for arr in pred_arrs]\n",
    "    print (means)\n",
    "    if not markers:\n",
    "        markers = len(pred_arrs) * ['s']\n",
    "        \n",
    "    if axs:\n",
    "        fig = plt.figure()\n",
    "        ax = axs\n",
    "        for mean, label, color, marker in zip(means, pred_labels, colors, markers):\n",
    "            line, = ax.plot(range(1,len(mean)+1), np.flip(mean), label = label, color = color, marker=marker, **kwargs)\n",
    "        plt.legend(title='Template prioritizer')\n",
    "        plt.xlabel('Template rank')\n",
    "        plt.ylabel('Mean output score')\n",
    "        plt.xticks(range(1,len(pred_arrs)+1))\n",
    "        plt.tight_layout(pad=0.2)\n",
    "        if save_path:\n",
    "            plt.savefig(save_path, dpi=300)\n",
    "    else:\n",
    "        fig = plt.figure()\n",
    "        ax = plt.subplot(111)\n",
    "        for mean, label, color, marker in zip(means, pred_labels, colors, markers):\n",
    "            plt.scatter(range(1,len(mean)+1), np.flip(mean), label = label, color = color, marker=marker, **kwargs)\n",
    "        plt.legend(title='Template prioritizer')\n",
    "        plt.xlabel('Template rank')\n",
    "        plt.ylabel('Mean output score')\n",
    "        plt.xticks(range(1,len(mean)+1))\n",
    "        plt.ylim(0.0, 0.5)\n",
    "        plt.tight_layout(pad=0.2)\n",
    "        if save_path:\n",
    "            plt.savefig(save_path, dpi=300)\n",
    "        plt.show() \n",
    "        \n",
    "def hash_smiles(smiles):\n",
    "    smiles = Chem.MolToSmiles(Chem.MolFromSmiles(smiles), isomericSmiles=False)\n",
    "    hashed_smiles = int(hashlib.md5(smiles.encode('utf-8')).hexdigest(), 16)\n",
    "    return np.float64(hashed_smiles)"
   ]
  },
  {
   "cell_type": "markdown",
   "metadata": {},
   "source": [
    "## Benchmarking the reaxys and biological retro template prioritizer models on MOSES"
   ]
  },
  {
   "cell_type": "markdown",
   "metadata": {},
   "source": [
    "The reaxys model was retrieved from ASKCOS/makeit-data  \n",
    "The bioreaxys model was trained on the subset of reactions in Reaxys labeled 'enzymatic' that are only a single step  \n",
    "  \n",
    "The input data is a subset of 50,000 molecules randomly sampled from the MOSES dataset (https://arxiv.org/abs/1811.12823)"
   ]
  },
  {
   "cell_type": "code",
   "execution_count": 69,
   "metadata": {},
   "outputs": [],
   "source": [
    "np.random.seed(111)\n",
    " \n",
    "moses_chems = '../../data/molecule_sets/MOSES_chems.txt'\n",
    "moses = pd.read_csv(moses_chems)\n",
    "rand_inds = np.random.choice(len(moses), 50000)\n",
    "\n",
    "moses_subset = moses.loc[rand_inds, :]\n",
    "\n",
    "try:\n",
    "    fps = [tf.constant(x) for x in np.load('../../data/molecule_sets/MOSES50k_fingerprints.npy')]\n",
    "\n",
    "except:\n",
    "    smiles = moses_subset['SMILES']\n",
    "    fps = [tf.constant(np.array([smiles_to_fingerprint(smi)]), dtype=tf.float32) for smi in smiles]\n",
    "    np.save('../../data/molecule_sets/MOSES50k_fingerprints', np.array([np.array(fp) for fp in fps]))"
   ]
  },
  {
   "cell_type": "code",
   "execution_count": 70,
   "metadata": {},
   "outputs": [],
   "source": [
    "np.random.seed(111)\n",
    "\n",
    "bkms_train = standardize_smiles_list(np.concatenate([np.load('../../data/processed/bkms-train.input.smiles.npy'),\n",
    "                        np.load('../../data/processed/bkms-valid.input.smiles.npy'),\n",
    "                        np.load('../../data/processed/bkms-test.input.smiles.npy')]))\n",
    "\n",
    "moses_subset = standardize_smiles_list(moses.loc[rand_inds, 'SMILES'])"
   ]
  },
  {
   "cell_type": "code",
   "execution_count": 74,
   "metadata": {},
   "outputs": [
    {
     "name": "stdout",
     "output_type": "stream",
     "text": [
      "loaded saved file\n"
     ]
    },
    {
     "name": "stderr",
     "output_type": "stream",
     "text": [
      "100%|██████████| 50000/50000 [00:00<00:00, 180848.21it/s]"
     ]
    },
    {
     "name": "stdout",
     "output_type": "stream",
     "text": [
      "loaded saved file\n",
      "all_loaded\n",
      "49999\n",
      "48869\n"
     ]
    },
    {
     "name": "stderr",
     "output_type": "stream",
     "text": [
      "\n"
     ]
    }
   ],
   "source": [
    "try:\n",
    "    moses_in_train = np.load('../../data/molecule_sets/moses_in_bkms_train.npy')\n",
    "    moses_not_in_train_idxs = [x not in moses_in_train for x in moses_subset]\n",
    "    print ('loaded saved file')\n",
    "except:\n",
    "    moses_in_train = set(bkms_train).intersection(moses_subset)\n",
    "    moses_not_in_train_idxs = [x not in moses_in_train for x in moses_subset]\n",
    "    np.save('../../data/molecule_sets/moses_in_bkms_train.npy', np.array(list(moses_in_train)))\n",
    "    \n",
    "try:\n",
    "    moses_in_historian = np.load('../../data/molecule_sets/moses_in_reaxys_train.npy')\n",
    "    hashed_moses = [hash_smiles(smiles) for smiles in moses_subset]\n",
    "    moses_not_in_historian = [h not in moses_in_historian for h in tqdm(hashed_moses)]\n",
    "    print ('loaded saved file')\n",
    "except:\n",
    "    chem_historian = pd.read_json('../../../askcos-data/historian/chemicals.json.gz')\n",
    "    reaxys_products = chem_historian[chem_historian['as_product']>0]\n",
    "    hashed_moses = [hash_smiles(smiles) for smiles in moses_subset]\n",
    "    reaxys_hashed_smiles_int = reaxys_products['smiles'].values\n",
    "    moses_in_historian = set(hashed_moses).intersection(reaxys_hashed_smiles_int)\n",
    "    moses_not_in_historian = [h not in moses_in_historian for h in tqdm(hashed_moses)]\n",
    "    np.save('../../data/molecule_sets/moses_in_bkms_train.npy', np.array(list(moses_in_train)))\n",
    "    \n",
    "print ('all_loaded')\n",
    "print (sum(moses_not_in_train_idxs))\n",
    "print (sum(moses_not_in_historian))"
   ]
  },
  {
   "cell_type": "code",
   "execution_count": 21,
   "metadata": {},
   "outputs": [],
   "source": [
    "try:\n",
    "    bkms_pred = np.load('../../data/molecule_sets/bkms_pred_MOSES50k.npy')\n",
    "except:\n",
    "    bkms_pred = analyze_model(bkms_path, fps, trunc = 500)\n",
    "    np.save('../../data/molecule_sets/bkms_pred_MOSES50k'.format(DATE), bkms_pred)\n",
    "    \n",
    "    \n",
    "try:    \n",
    "    reaxys_pred = np.load('../../data/molecule_sets/reaxys_pred_MOSES50k.npy')\n",
    "except:\n",
    "    reaxys_pred = analyze_model(reaxys_path, fps, trunc = 500)\n",
    "    np.save('../../data/molecule_sets/MOSES50k', reaxys_pred)"
   ]
  },
  {
   "cell_type": "code",
   "execution_count": 25,
   "metadata": {},
   "outputs": [
    {
     "data": {
      "image/png": "[encoded data removed]",
      "text/plain": [
       "<Figure size 122.4x122.4 with 1 Axes>"
      ]
     },
     "metadata": {
      "needs_background": "light"
     },
     "output_type": "display_data"
    }
   ],
   "source": [
    "plt.figure()\n",
    "plot_ind_distributions ([bkms_pred[np.multiply(moses_not_in_train_idxs, moses_not_in_historian),:], reaxys_pred[np.multiply(moses_not_in_train_idxs, moses_not_in_historian),:]], -1, \n",
    "                      figure_dir+'MOSES_score_comparison_traintestval.pdf',\n",
    "                      bins = 100, colors = ['cadetblue', 'black'], \n",
    "                        labels = ['Enzymatic', 'Organic'], \n",
    "                        alpha = 0.65, edgecolor=None)"
   ]
  },
  {
   "cell_type": "code",
   "execution_count": 27,
   "metadata": {},
   "outputs": [
    {
     "name": "stdout",
     "output_type": "stream",
     "text": [
      "[array([0.01418143, 0.0161873 , 0.01878862, 0.02232447, 0.02711723,\n",
      "       0.03416632, 0.04502206, 0.06429037, 0.10593846, 0.32380956],\n",
      "      dtype=float32), array([0.01115243, 0.0133273 , 0.01628617, 0.02039069, 0.02647638,\n",
      "       0.03607812, 0.05268929, 0.08374566, 0.16531701, 0.44030938],\n",
      "      dtype=float32)]\n"
     ]
    },
    {
     "data": {
      "image/png": "[encoded data removed]",
      "text/plain": [
       "<Figure size 122.4x122.4 with 1 Axes>"
      ]
     },
     "metadata": {
      "needs_background": "light"
     },
     "output_type": "display_data"
    }
   ],
   "source": [
    "plot_scores ([bkms_pred[np.multiply(moses_not_in_train_idxs, moses_not_in_historian),-10:], reaxys_pred[np.multiply(moses_not_in_train_idxs, moses_not_in_historian),-10:]], \n",
    "             ['Enzymatic', 'Organic'], ['cadetblue', 'black'], \n",
    "             figure_dir+'top_10_mean_scores_moses_traintestval.pdf', markers = ['s', '^'], means = True, s=10, edgecolor='black', linewidth=0.5)"
   ]
  },
  {
   "cell_type": "markdown",
   "metadata": {},
   "source": [
    "## Benchmark on ZINC Biogenic"
   ]
  },
  {
   "cell_type": "code",
   "execution_count": 37,
   "metadata": {},
   "outputs": [
    {
     "name": "stdout",
     "output_type": "stream",
     "text": [
      "Loaded\n"
     ]
    },
    {
     "name": "stderr",
     "output_type": "stream",
     "text": [
      "100%|██████████| 49586/49586 [00:00<00:00, 117949.00it/s]"
     ]
    },
    {
     "name": "stdout",
     "output_type": "stream",
     "text": [
      "Loaded\n"
     ]
    },
    {
     "name": "stderr",
     "output_type": "stream",
     "text": [
      "\n"
     ]
    }
   ],
   "source": [
    "try:\n",
    "    zinc_in_train = np.load('../../data/molecule_sets/zinc_in_bkms_train.npy')\n",
    "    not_in_train = [smiles for smiles in std_biogenic if smiles not in zinc_in_train]\n",
    "    print ('Loaded')\n",
    "except:\n",
    "    np.random.seed(111)\n",
    "    biogenic = pd.read_csv('../../data/molecule_sets/biogenic_2015.csv')\n",
    "    rand_inds = np.random.choice(len(biogenic), 50000)\n",
    "    biogenic = biogenic.loc[rand_inds, :]\n",
    "    bkms_train = standardize_smiles_list(np.concatenate([np.load('../../data/processed/bkms-train.input.smiles.npy'),\n",
    "                        np.load('../../data/processed/bkms-valid.input.smiles.npy'),\n",
    "                        np.load('../../data/processed/bkms-test.input.smiles.npy')]))\n",
    "    std_biogenic = standardize_smiles_list(biogenic['smiles'])\n",
    "    std_bkms_train = standardize_smiles_list(bkms_train)\n",
    "    not_in_train = [smiles for smiles in std_biogenic if smiles not in std_bkms_train]\n",
    "    np.save('../../data/molecule_sets/zinc_in_bkms_train.npy', np.array(list(std_bkms_train)))\n",
    "\n",
    "try:\n",
    "    zinc_in_historian = np.load('../../data/molecule_sets/zinc_in_reaxys_train.npy')\n",
    "    hashed_zinc = [hash_smiles(smiles) for smiles in not_in_train]\n",
    "    zinc_not_in_historian = [h not in zinc_in_historian for h in tqdm(hashed_zinc)]\n",
    "    print ('Loaded')\n",
    "except:\n",
    "    hashed_zinc = [hash_smiles(smiles) for smiles in not_in_train]\n",
    "    print (len(hashed_zinc))\n",
    "    reaxys_hashed_smiles_int = reaxys_products['smiles'].values\n",
    "    zinc_in_historian = set(reaxys_hashed_smiles_int).intersection(hashed_zinc)\n",
    "    zinc_not_in_historian = [h not in zinc_in_historian for h in tqdm(hashed_zinc)]\n",
    "    np.save('../../data/molecule_sets/zinc_in_reaxys_train.npy', np.array(list(zinc_in_historian)))"
   ]
  },
  {
   "cell_type": "code",
   "execution_count": 28,
   "metadata": {},
   "outputs": [],
   "source": [
    "try:\n",
    "    biogenic_fps = [tf.constant(x) for x in np.load('../../data/molecule_sets/zinc_biogenic_50k_fingerprints_all.npy')]\n",
    "except:\n",
    "\n",
    "\n",
    "    biogenic_fps = [tf.constant(np.array([smiles_to_fingerprint(smi)]), dtype=tf.float32) for smi in not_in_train]\n",
    "    np.save('../../data/molecule_sets/zinc_biogenic_50k_fingerprints_all', np.array([np.array(fp) for fp in biogenic_fps]))"
   ]
  },
  {
   "cell_type": "code",
   "execution_count": 29,
   "metadata": {},
   "outputs": [
    {
     "name": "stdout",
     "output_type": "stream",
     "text": [
      "all_loaded\n"
     ]
    }
   ],
   "source": [
    "try:    \n",
    "    reaxys_pred_biogenic = np.load('../../data/molecule_sets/reaxys_pred_biogenic_mols_no_train.npy')\n",
    "except:\n",
    "    reaxys_pred_biogenic = analyze_model(reaxys_path, biogenic_fps, trunc = 500)\n",
    "    np.save('../../data/molecule_sets/reaxys_pred_biogenic_mols_no_train', reaxys_pred_biogenic)\n",
    "try:    \n",
    "    bkms_pred_biogenic = np.load('../../data/molecule_sets/bkms_pred_biogenic_mols.npy'.format(DATE))\n",
    "except:\n",
    "    bkms_pred_biogenic = analyze_model(bkms_path, biogenic_fps, trunc = 500)\n",
    "    np.save('../../data/molecule_sets/bkms_pred_biogenic_mols'.format(DATE), bkms_pred_biogenic)\n",
    "    \n",
    "print ('all_loaded')\n"
   ]
  },
  {
   "cell_type": "code",
   "execution_count": 38,
   "metadata": {},
   "outputs": [
    {
     "data": {
      "image/png": "[encoded data removed]",
      "text/plain": [
       "<Figure size 122.4x122.4 with 1 Axes>"
      ]
     },
     "metadata": {
      "needs_background": "light"
     },
     "output_type": "display_data"
    }
   ],
   "source": [
    "plot_ind_distributions ([bkms_pred_biogenic[zinc_not_in_historian, :], reaxys_pred_biogenic[zinc_not_in_historian, :]], -1, \n",
    "                      figure_dir+'ZINC_score_comparison_no_train.pdf',\n",
    "                      bins = 100, colors = ['cadetblue', 'black'], \n",
    "                        labels = ['Enzymatic', 'Organic'], \n",
    "                        alpha = 0.65)"
   ]
  },
  {
   "cell_type": "code",
   "execution_count": 39,
   "metadata": {},
   "outputs": [
    {
     "name": "stdout",
     "output_type": "stream",
     "text": [
      "[array([0.01143971, 0.01326866, 0.01564363, 0.01901993, 0.02363009,\n",
      "       0.03068355, 0.04268273, 0.06511971, 0.12234063, 0.4502207 ],\n",
      "      dtype=float32), array([0.01585813, 0.01851   , 0.02174681, 0.02672339, 0.0328624 ,\n",
      "       0.04208014, 0.05602099, 0.0806905 , 0.13901506, 0.32599017],\n",
      "      dtype=float32)]\n"
     ]
    },
    {
     "data": {
      "image/png": "[encoded data removed]",
      "text/plain": [
       "<Figure size 122.4x122.4 with 1 Axes>"
      ]
     },
     "metadata": {
      "needs_background": "light"
     },
     "output_type": "display_data"
    }
   ],
   "source": [
    "plot_scores ([bkms_pred_biogenic[zinc_not_in_historian,-10:], reaxys_pred_biogenic[zinc_not_in_historian,-10:]], \n",
    "             ['Enzymatic', 'Organic'], ['cadetblue', 'black'], \n",
    "             figure_dir+'top_10_mean_scores_biogenic_no_train.pdf', markers=['s', '^'], means = True, s=10, edgecolor='black', linewidth=0.5)"
   ]
  },
  {
   "cell_type": "code",
   "execution_count": 54,
   "metadata": {},
   "outputs": [
    {
     "name": "stdout",
     "output_type": "stream",
     "text": [
      "[0.319343551126481, 0.691685935869365, 0.8836071947451349, 0.9520145695635269, 0.9808467535656551, 0.9921627207432114, 0.9966645521700873, 0.9984857476109599, 0.9991405594548691, 0.9995907425975568, 0.9998158341689005, 0.9999181485195113, 0.9999386113896335, 0.9999386113896335, 0.9999590742597556, 0.9999795371298777, 0.9999999999999999]\n",
      "[0.68065645 0.95974953 0.99236735 0.99828112 0.99961121 0.9998363\n",
      " 0.99995907 0.99997954 1.         0.        ]\n"
     ]
    },
    {
     "data": {
      "image/png": "[encoded data removed]",
      "text/plain": [
       "<Figure size 122.4x122.4 with 1 Axes>"
      ]
     },
     "metadata": {
      "needs_background": "light"
     },
     "output_type": "display_data"
    }
   ],
   "source": [
    "keep_idxs = np.multiply(moses_not_in_train_idxs, moses_not_in_historian)\n",
    "plot_comp_2(reaxys_pred[keep_idxs,:], bkms_pred[keep_idxs,:], 'bio_score', 'chem_score', \n",
    "          color = 'cadetblue',  label = 'Small organics',  cumulative=True, s=10, edgecolor='black', linewidth=0.5, marker = 's')\n",
    "\n",
    "plot_comp_2(bkms_pred[keep_idxs,:], reaxys_pred[keep_idxs,:], 'bio_score', 'chem_score', \n",
    "          color = 'black',  label = 'Small organics', cumulative=True, s=10, edgecolor='black', linewidth=0.5, marker = '^')\n",
    "\n",
    "plt.ylabel('Likelihood template set is\\n among top overall suggestions')\n",
    "plt.xlabel('Number of top overall suggestions')\n",
    "# plt.legend()\n",
    "\n",
    "# ax_arr.grid()\n",
    "# plt.legend(title='Input set', labelspacing=0.2, handletextpad=0.5, handlelength=1)#, bbox_to_anchor=(1.05, 0.7), loc='upper left')\n",
    "plt.xticks(range(0,6))\n",
    "plt.xlim((0.8,5.2))\n",
    "plt.ylim(.25,1.05)\n",
    "plt.tight_layout(pad=0.2)\n",
    "plt.savefig(figure_dir+'overall_enzymatic_rank_MOSES_no_train.pdf', dpi=300)"
   ]
  },
  {
   "cell_type": "code",
   "execution_count": 194,
   "metadata": {},
   "outputs": [
    {
     "name": "stdout",
     "output_type": "stream",
     "text": [
      "[0.0, 0.6514354703390698, 0.8759745441895681, 0.9502956884732654, 0.9804579590333341, 0.9919990177822342, 0.9966236264298431, 0.9984652847408378, 0.9991405594548692, 0.9995907425975569, 0.9998158341689006, 0.9999181485195114, 0.9999386113896336, 0.9999386113896336, 0.9999590742597557, 0.9999795371298779, 1.0]\n"
     ]
    },
    {
     "data": {
      "image/png": "[encoded data removed]",
      "text/plain": [
       "<Figure size 122.4x122.4 with 1 Axes>"
      ]
     },
     "metadata": {
      "needs_background": "light"
     },
     "output_type": "display_data"
    }
   ],
   "source": [
    "keep_idxs = np.multiply(moses_not_in_train_idxs, moses_not_in_historian)\n",
    "plot_comp_3(reaxys_pred[keep_idxs,:], bkms_pred[keep_idxs,:], 'bio_score', 'chem_score', \n",
    "          color = 'black',  label = 'Small organics', edgecolor='black', linewidth=0.5)\n",
    "\n",
    "plt.ylabel('Fraction of molecules with \\n templates from both sets ranked ≤ n')\n",
    "plt.xlabel('n')\n",
    "# plt.legend()\n",
    "\n",
    "# ax_arr.grid()\n",
    "# plt.legend(title='Input set', labelspacing=0.2, handletextpad=0.5, handlelength=1)#, bbox_to_anchor=(1.05, 0.7), loc='upper left')\n",
    "plt.xticks(range(0,6))\n",
    "plt.xlim((0.8,5.6))\n",
    "plt.ylim(.25,1.05)\n",
    "plt.tight_layout(pad=0.2)\n",
    "plt.savefig(figure_dir+'rank_of_both_MOSES_no_train.pdf', dpi=300)"
   ]
  },
  {
   "cell_type": "code",
   "execution_count": 195,
   "metadata": {},
   "outputs": [
    {
     "name": "stdout",
     "output_type": "stream",
     "text": [
      "[0.0, 0.7176862440324192, 0.9149772399245031, 0.9699344953924725, 0.9895636726990118, 0.9958032641279004, 0.9980903741534362, 0.9991340068835349, 0.9995114910625068, 0.9997335405795491, 0.9999111801931829, 0.9999777950482956, 0.9999999999999999]\n"
     ]
    },
    {
     "data": {
      "image/png": "[encoded data removed]",
      "text/plain": [
       "<Figure size 122.4x122.4 with 1 Axes>"
      ]
     },
     "metadata": {
      "needs_background": "light"
     },
     "output_type": "display_data"
    }
   ],
   "source": [
    "keep_idxs = zinc_not_in_historian\n",
    "plot_comp_3(reaxys_pred_biogenic[keep_idxs,:], bkms_pred_biogenic[keep_idxs,:], 'bio_score', 'chem_score', \n",
    "          color = 'black',  label = 'Small organics', edgecolor='black', linewidth=0.5)\n",
    "\n",
    "plt.ylabel('Fraction of molecules with \\n templates from both sets ranked ≤ n')\n",
    "plt.xlabel('n')\n",
    "# plt.legend()\n",
    "\n",
    "# ax_arr.grid()\n",
    "# plt.legend(title='Input set', labelspacing=0.2, handletextpad=0.5, handlelength=1)#, bbox_to_anchor=(1.05, 0.7), loc='upper left')\n",
    "plt.xticks(range(0,6))\n",
    "plt.xlim((0.8,5.6))\n",
    "plt.ylim(.25,1.05)\n",
    "plt.tight_layout(pad=0.2)\n",
    "plt.savefig(figure_dir+'rank_of_both_ZINC_no_train.pdf', dpi=300)"
   ]
  },
  {
   "cell_type": "code",
   "execution_count": 55,
   "metadata": {},
   "outputs": [
    {
     "name": "stdout",
     "output_type": "stream",
     "text": [
      "[0.6425446874653048, 0.8855112690129899, 0.9627622959920062, 0.9864549794604197, 0.9948262462529145, 0.9977795048295771, 0.9989341623181971, 0.9995559009659155, 0.9997113356278451, 0.9997779504829578, 0.9999111801931831, 0.9999777950482959, 1.0]\n",
      "[0.35745531253469526, 0.8321749750194294, 0.952214943932497, 0.9834795159320529, 0.9947374264460975, 0.9980237592983235, 0.9991562118352393, 0.9995781059176196, 0.9998001554346619, 0.9999555900965915, 1.0]\n"
     ]
    },
    {
     "data": {
      "image/png": "[encoded data removed]",
      "text/plain": [
       "<Figure size 122.4x122.4 with 1 Axes>"
      ]
     },
     "metadata": {
      "needs_background": "light"
     },
     "output_type": "display_data"
    }
   ],
   "source": [
    "plot_comp_2(reaxys_pred_biogenic[zinc_not_in_historian, :], bkms_pred_biogenic[zinc_not_in_historian, :], 'bio_score', 'chem_score', \n",
    "          color = 'cadetblue',  label = 'Natural Products',  cumulative=True, s=10, edgecolor='black', linewidth=0.5, marker = 's')\n",
    "\n",
    "plot_comp_2(bkms_pred_biogenic[zinc_not_in_historian, :], reaxys_pred_biogenic[zinc_not_in_historian, :], 'bio_score', 'chem_score', \n",
    "          color = 'black',  label = 'Natural Products', cumulative=True, s=10, edgecolor='black', linewidth=0.5, marker = '^')\n",
    "plt.ylabel('Likelihood template set is\\n among top overall suggestions')\n",
    "plt.xlabel('Number of top overall suggestions')\n",
    "plt.xticks(range(0,6))\n",
    "plt.xlim((0.8,5.2))\n",
    "plt.ylim(.25,1.05)\n",
    "plt.tight_layout(pad=0.2)\n",
    "plt.savefig(figure_dir+'overall_enzymatic_rank_biogenic_no_train.pdf', dpi=300)"
   ]
  }
 ],
 "metadata": {
  "kernelspec": {
   "display_name": "Python rdkit",
   "language": "python",
   "name": "my-rdkit-env"
  },
  "language_info": {
   "codemirror_mode": {
    "name": "ipython",
    "version": 3
   },
   "file_extension": ".py",
   "mimetype": "text/x-python",
   "name": "python",
   "nbconvert_exporter": "python",
   "pygments_lexer": "ipython3",
   "version": "3.7.9"
  }
 },
 "nbformat": 4,
 "nbformat_minor": 4
}
